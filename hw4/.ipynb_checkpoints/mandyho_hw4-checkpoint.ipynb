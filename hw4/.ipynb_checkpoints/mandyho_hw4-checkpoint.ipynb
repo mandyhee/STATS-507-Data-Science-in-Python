{
 "cells": [
  {
   "cell_type": "markdown",
   "metadata": {},
   "source": [
    "## STATS 507 HW4 Functional Programming \n",
    "### Meng-Ni Ho\n",
    "#### mandyho@umich.edu\n",
    "\n",
    "problem 1: 3.5 hr   \n",
    "problem 2: 40 min   \n",
    "problem 3: 1.5 hr   \n",
    "problem 4: 1.5 hr   \n",
    "\n",
    "<span style=\"color:red\">13/15   \n",
    "1.2: -1, hard-coded initial values  \n",
    "1.3: -0.5, essentially used is_prime from class  \n",
    "1.4: -0.5 wrong start point\n",
    "</span>\n",
    "  "
   ]
  },
  {
   "cell_type": "markdown",
   "metadata": {},
   "source": [
    "### Problem 1 Iterators and Generators\n",
    "In this exercise, you’ll get some practice working with iterators and generators. Note: in this problem, the word enumerate is meant in the sense of returning elements, not in the sense of the Python function enumerate. So, if I say that an iterator enumerates a sequence a0,a1,a2,..., I mean that these are the elements that it returns upon calls to the <span style=\"font-family:Courier; font-size:1em;\">\\___next\\___</span> method, not that it returns pairs (i,ai) like the enumerate function."
   ]
  },
  {
   "cell_type": "markdown",
   "metadata": {},
   "source": [
    "1. Define a class Fibo of iterators that enumerate the Fibonacci numbers. For the purposes of this problem, the Fibonacci sequence begins 0,1,1,2,3,..., with the n-th Fibonacci number Fn given by the recursive formula Fn = Fn−1 + Fn−2. Your solution should not make use of any function aside from addition (i.e., you should not need to use the function fibo() defined in lecture a few weeks ago). Your class should support, at a minimum, an initialization method, a <span style=\"font-family:Courier; font-size:1em;\">\\___iter\\___</span> method method (so that we can get an iterator) and a <span style=\"font-family:Courier; font-size:1em;\">\\___next\\___</span> method method. \n",
    "\n",
    "    Note: there is an especially simple solution to this problem that can be expressed in just a few lines using tuple assignment."
   ]
  },
  {
   "cell_type": "code",
   "execution_count": 1,
   "metadata": {},
   "outputs": [],
   "source": [
    "class Fibo:\n",
    "    def __init__(self):\n",
    "        self.a = -1\n",
    "        self.b = 1\n",
    "        \n",
    "    def __iter__(self):\n",
    "        return self\n",
    "        \n",
    "    def __next__(self):\n",
    "        fibo = self.a + self.b\n",
    "        self.a, self.b = self.b, (self.a + self.b)\n",
    "        return fibo"
   ]
  },
  {
   "cell_type": "code",
   "execution_count": 2,
   "metadata": {},
   "outputs": [
    {
     "data": {
      "text/plain": [
       "[0, 1, 1, 2, 3, 5, 8, 13, 21, 34]"
      ]
     },
     "execution_count": 2,
     "metadata": {},
     "output_type": "execute_result"
    }
   ],
   "source": [
    "f = Fibo()\n",
    "[next(f) for i in range(10)]"
   ]
  },
  {
   "cell_type": "markdown",
   "metadata": {},
   "source": [
    "2. We can generalize the Fibonacci sequence by following the same recursive procedure Fn = Fn−1 +Fn−2, but using a different choice of initial two values for F0 and F1. For example, if we take F0 = 2 and F1 = 1, then we obtain the Lucas numbers (2,1,3,4,7,11,18), which are closely related to the Fibonacci numbers (https://en.wikipedia.org/wiki/Lucas_number). \n",
    "\n",
    "    Define a class GenFibo of iterators that enumerate generalized Fibonacci numbers. Your class should inherit from the Fibo class defined in the previous subproblem. The initialization method for the GenFibo class should take two optional arguments that specify the values of F0 and F1, in that order, and their values should default so that F = GenFibo() results in an enumerator equivalent to the one that would have been created if you had called F = Fibo() (i.e., GenFibo() should produce an iterator over the Fibonacci numbers)."
   ]
  },
  {
   "cell_type": "code",
   "execution_count": 3,
   "metadata": {},
   "outputs": [],
   "source": [
    "class GenFibo(Fibo):\n",
    "    \n",
    "    def __init__(self):\n",
    "        self.a = 3\n",
    "        self.b = -1"
   ]
  },
  {
   "cell_type": "code",
   "execution_count": 4,
   "metadata": {},
   "outputs": [
    {
     "data": {
      "text/plain": [
       "[2, 1, 3, 4, 7, 11, 18, 29, 47, 76]"
      ]
     },
     "execution_count": 4,
     "metadata": {},
     "output_type": "execute_result"
    }
   ],
   "source": [
    "g = GenFibo()\n",
    "[next(g) for i in range(10)]"
   ]
  },
  {
   "cell_type": "markdown",
   "metadata": {},
   "source": [
    "3. Define a generator primes that enumerates the prime numbers. Recall that a prime number is any integer p > 1 whose only divisors are p and 1. \n",
    "\n",
    "    Note: you may use the function is_prime that we defined in class (or something similar to it), but such solutions will not receive full credit, as there is a more graceful solution that avoids declaring a separate function or method for directly checking primality. \n",
    "    \n",
    "    Hint: consider a pattern similar to the one seen in lecture using the any and/or all functions."
   ]
  },
  {
   "cell_type": "code",
   "execution_count": 5,
   "metadata": {},
   "outputs": [],
   "source": [
    "def primes():\n",
    "    n = 2\n",
    "    while True:\n",
    "        if any(n%x==0 for x in range(2,n)) == False:\n",
    "            yield n\n",
    "        n+=1\n",
    "# any: return True of there is one True, all: return True if all return True\n",
    "# if any((n%x==0 for x in range(2,n)) return False, which means all n%x==0 return False, then it's a prime number, return True"
   ]
  },
  {
   "cell_type": "code",
   "execution_count": 6,
   "metadata": {},
   "outputs": [],
   "source": [
    "p = primes()\n",
    "a = [next(p) for i in range(13)]"
   ]
  },
  {
   "cell_type": "markdown",
   "metadata": {},
   "source": [
    "4. This one is good practice for coding interview questions. The Ulam numbers are a sequence u1, u2, u3, . . . of positive integers, defined in the following way: u1 = 1, and u2 = 2. For all n > 2, un is the smallest integer that is expressible as a sum of two distinct terms from earlier in the sequence in exactly one way. See the Examples section of the Wikipedia page for an illustration: https://en.wikipedia.org/wiki/Ulam_number. \n",
    "    \n",
    "    ulam sequence: 1, 2, 3, 4, 6, 8, 11, 13, 16, 18, 26, 28, 36, 38, 47, 48, 53, 57, 62, 69, 72, 77, 82, 87, 97, 99, 102\n",
    "    \n",
    "    Define a generator ulam that enumerates the Ulam numbers. \n",
    "\n",
    "    Hint: it will be helpful to try and break this problem into smaller, simpler subproblems.   \n",
    "    In particular, you may find it helpful to write a function that takes a list of integers t and one additional integer u, and determines whether or not u is expressible as a sum of two distinct elements of t in exactly one way."
   ]
  },
  {
   "cell_type": "code",
   "execution_count": 7,
   "metadata": {},
   "outputs": [],
   "source": [
    "def ulam():\n",
    "    t = [1,2]\n",
    "    u = 3\n",
    "    while True:\n",
    "        c = 0\n",
    "        for j in range(0, len(t)): \n",
    "            if (u - t[j]) in t and u != (2*t[j]):  \n",
    "                c += 1\n",
    "        if c == 2:   \n",
    "            t.append(u)\n",
    "            yield u\n",
    "        u += 1"
   ]
  },
  {
   "cell_type": "code",
   "execution_count": 8,
   "metadata": {},
   "outputs": [
    {
     "data": {
      "text/plain": [
       "[3, 4, 6, 8, 11, 13, 16, 18, 26, 28, 36, 38, 47, 48, 53]"
      ]
     },
     "execution_count": 8,
     "metadata": {},
     "output_type": "execute_result"
    }
   ],
   "source": [
    "u = ulam()\n",
    "[next(u) for i in range(15)]"
   ]
  },
  {
   "cell_type": "markdown",
   "metadata": {},
   "source": [
    "### Problem 2 List Comprehensions and Generator Expressions (4 points)\n",
    "In this exercise you’ll write a few simple list comprehensions and generator expressions. Again in this problem I use the term enumerate to mean that a list comprehension or generator expression returns certain elements, rather than in the sense of the Python function enumerate."
   ]
  },
  {
   "cell_type": "markdown",
   "metadata": {},
   "source": [
    "1. Write a list comprehension that enumerates the sequence $2^{n}−1$ for $n=1,2,3,...,20$.\n",
    "For ease of grading, please assign this list comprehension to a variable called <span style=\"font-family:Courier; font-size:1em;\">pow2minus1</span>."
   ]
  },
  {
   "cell_type": "code",
   "execution_count": 9,
   "metadata": {},
   "outputs": [],
   "source": [
    "pow2minus1 = [2**n-1 for n in range(1,21)]"
   ]
  },
  {
   "cell_type": "code",
   "execution_count": 10,
   "metadata": {},
   "outputs": [
    {
     "data": {
      "text/plain": [
       "[1,\n",
       " 3,\n",
       " 7,\n",
       " 15,\n",
       " 31,\n",
       " 63,\n",
       " 127,\n",
       " 255,\n",
       " 511,\n",
       " 1023,\n",
       " 2047,\n",
       " 4095,\n",
       " 8191,\n",
       " 16383,\n",
       " 32767,\n",
       " 65535,\n",
       " 131071,\n",
       " 262143,\n",
       " 524287,\n",
       " 1048575]"
      ]
     },
     "execution_count": 10,
     "metadata": {},
     "output_type": "execute_result"
    }
   ],
   "source": [
    "pow2minus1"
   ]
  },
  {
   "cell_type": "markdown",
   "metadata": {},
   "source": [
    "2. The Lazy Caterer’s sequence is a sequence of numbers that counts, for each $n = 0,1,2$,..., the largest number of pieces that can be cut from a disk with at most n cuts (https://en.wikipedia.org/wiki/Lazy_caterer’s_sequence ).(1, 2, 4, 7, 11, 16, 22, 29, 37, 46, 56, 67, 79, 92, 106) \n",
    "    \n",
    "    The n-th number in this sequence is given by $p_{n} =(n^{2}+n+2)/2$, where $n=0,1,2,$.... \n",
    "    \n",
    "    Write a generator expression that enumerates the Lazy Caterer’s sequence. For ease of grading, please assign this generator expression to a variable called <span style=\"font-family:Courier; font-size:1em;\">caterer</span>.  \n",
    "    \n",
    "    Hint: you may find it useful to define a generator that enumerates the non-negative integers."
   ]
  },
  {
   "cell_type": "code",
   "execution_count": 11,
   "metadata": {},
   "outputs": [],
   "source": [
    "# define a generator that enumerates the non-negative integers\n",
    "def non_integer():\n",
    "    n = -1\n",
    "    while True:\n",
    "        n = n + 1\n",
    "        yield n"
   ]
  },
  {
   "cell_type": "code",
   "execution_count": 12,
   "metadata": {},
   "outputs": [],
   "source": [
    "caterer = ((n**2+n+2)/2 for n in non_integer())"
   ]
  },
  {
   "cell_type": "code",
   "execution_count": 13,
   "metadata": {},
   "outputs": [
    {
     "data": {
      "text/plain": [
       "1.0"
      ]
     },
     "execution_count": 13,
     "metadata": {},
     "output_type": "execute_result"
    }
   ],
   "source": [
    "next(caterer)"
   ]
  },
  {
   "cell_type": "markdown",
   "metadata": {},
   "source": [
    "3. Write a generator expression that enumerates the tetrahedral numbers (1, 4, 10, 20, 35, 56, 84, 120, 165, 220). \n",
    "    The n-th tetrahedral number (n = 1, 2, . . . ) is given by $ T_{n} = {n+2\\choose 3}$􏰁, where 􏰀${x\\choose y}$ is the binomial coefficient: ${x\\choose y} = \\frac{x!}{y!(x-y)!}$ so ${n+2\\choose 3} = \\frac{(n+2)!}{3!(n-1)!} = \\frac{n(n+1)(n+2)}{6}$\n",
    "    \n",
    "    For ease of grading, please assign this generator expression to a variable called <span style=\"font-family:Courier; font-size:1em;\">tetra</span>.\n",
    "    \n",
    "    Hint: you may find it useful to define a generator that enumerates the positive integers."
   ]
  },
  {
   "cell_type": "code",
   "execution_count": 14,
   "metadata": {},
   "outputs": [],
   "source": [
    "# define a generator that enumerates the positive integers\n",
    "def positive():\n",
    "    n = 0\n",
    "    while True:\n",
    "        n = n + 1\n",
    "        yield n"
   ]
  },
  {
   "cell_type": "code",
   "execution_count": 15,
   "metadata": {},
   "outputs": [],
   "source": [
    "tetra = (n*(n+1)*(n+2)/6 for n in positive())"
   ]
  },
  {
   "cell_type": "code",
   "execution_count": 16,
   "metadata": {},
   "outputs": [
    {
     "data": {
      "text/plain": [
       "1.0"
      ]
     },
     "execution_count": 16,
     "metadata": {},
     "output_type": "execute_result"
    }
   ],
   "source": [
    "next(tetra)"
   ]
  },
  {
   "cell_type": "markdown",
   "metadata": {},
   "source": [
    "### Problem 3 Map, Filter and Reduce\n",
    "In this exercise, you’ll learn a bit about map, filter and reduce operations. We will revisit these operations in a few weeks when we discuss MapReduce and related frameworks in distributed computing. In this problem, I expect that you will use only the functions map, filter and functions from the functools and itertools modules, along with the range function (and similar list-related functions) and a sprinkling of lambda expressions.\n"
   ]
  },
  {
   "cell_type": "markdown",
   "metadata": {},
   "source": [
    "1. Write a one-line expression that computes the sum of the first 10 even square numbers (starting from 4).   \n",
    "    For ease of grading, please assign the output of this expression to a variable called sum_of_even_squares."
   ]
  },
  {
   "cell_type": "code",
   "execution_count": 17,
   "metadata": {},
   "outputs": [],
   "source": [
    "# squared number:\n",
    "# [x*x for x in range(1,21)]"
   ]
  },
  {
   "cell_type": "code",
   "execution_count": 18,
   "metadata": {},
   "outputs": [
    {
     "data": {
      "text/plain": [
       "1540"
      ]
     },
     "execution_count": 18,
     "metadata": {},
     "output_type": "execute_result"
    }
   ],
   "source": [
    "import functools\n",
    "sum_of_even_squares = functools.reduce(lambda x,y: x+y, filter(lambda x: x%2 == 0, [x*x for x in range(1,21)]))\n",
    "sum_of_even_squares"
   ]
  },
  {
   "cell_type": "markdown",
   "metadata": {},
   "source": [
    "2. Write a one-line expression that computes the product of the first 13 primes. You may use the primes generator that you defined above.  \n",
    "     For ease of grading, please assign the output of this expression to a variable called product_of_primes."
   ]
  },
  {
   "cell_type": "code",
   "execution_count": 19,
   "metadata": {},
   "outputs": [
    {
     "data": {
      "text/plain": [
       "304250263527210"
      ]
     },
     "execution_count": 19,
     "metadata": {},
     "output_type": "execute_result"
    }
   ],
   "source": [
    "p = primes()\n",
    "product_of_primes = functools.reduce(lambda x,y: x*y, [next(p) for i in range(13)])\n",
    "product_of_primes"
   ]
  },
  {
   "cell_type": "markdown",
   "metadata": {},
   "source": [
    "3. Write a one-line expression that computes the sum of the squares of the first 31 primes. You may use the primes generator that you defined above.  \n",
    "    For ease of grading, please assign the output of this expression to a variable called squared_primes."
   ]
  },
  {
   "cell_type": "code",
   "execution_count": 20,
   "metadata": {},
   "outputs": [
    {
     "data": {
      "text/plain": [
       "138834"
      ]
     },
     "execution_count": 20,
     "metadata": {},
     "output_type": "execute_result"
    }
   ],
   "source": [
    "p = primes()\n",
    "squared_primes = functools.reduce(lambda x,y: x+y, [x*x for x in [next(p) for i in range(31)]])\n",
    "squared_primes"
   ]
  },
  {
   "cell_type": "markdown",
   "metadata": {},
   "source": [
    "4. Write a one-line expression that computes a list of the first twenty harmonic numbers. Recall that the n-th harmonic number is given by: $ H_{n} = \\sum_{k=1}^{n} 1/k $  \n",
    "    For ease of grading, please assign the output of this expression to a variable called harmonics."
   ]
  },
  {
   "cell_type": "code",
   "execution_count": 21,
   "metadata": {},
   "outputs": [
    {
     "data": {
      "text/plain": [
       "[1.0,\n",
       " 1.5,\n",
       " 1.8333333333333333,\n",
       " 2.083333333333333,\n",
       " 2.283333333333333,\n",
       " 2.4499999999999997,\n",
       " 2.5928571428571425,\n",
       " 2.7178571428571425,\n",
       " 2.8289682539682537,\n",
       " 2.9289682539682538,\n",
       " 3.0198773448773446,\n",
       " 3.103210678210678,\n",
       " 3.180133755133755,\n",
       " 3.251562326562327,\n",
       " 3.3182289932289937,\n",
       " 3.3807289932289937,\n",
       " 3.439552522640758,\n",
       " 3.4951080781963135,\n",
       " 3.547739657143682,\n",
       " 3.597739657143682]"
      ]
     },
     "execution_count": 21,
     "metadata": {},
     "output_type": "execute_result"
    }
   ],
   "source": [
    "harmonics = [functools.reduce(lambda x,y: x+1/y, range(i)) for i in range(2,22)]\n",
    "# set range to (2,22), so the first range will be range(2) to range(21)\n",
    "harmonics"
   ]
  },
  {
   "cell_type": "markdown",
   "metadata": {},
   "source": [
    "5. Write a one-line expression that computes the geometric mean of the first 12 tetrahedral numbers. You may use the generator that you wrote in the previous problem. Recall that the geometric mean of a collection of n numbers $a_{1}, a_{2},..., a_{n}$ is given by $(\\prod_{i=1}^{n} a_{i})^{1/n}$  \n",
    "    For ease of grading, please assign the output of this expression to a variable called tetra_geom."
   ]
  },
  {
   "cell_type": "code",
   "execution_count": 22,
   "metadata": {},
   "outputs": [],
   "source": [
    "tetra = (n*(n+1)*(n+2)/6 for n in positive())\n",
    "tetra_geom = [functools.reduce(lambda x,y: x*y, [next(tetra) for x in range(12)])][0]**(1/12)"
   ]
  },
  {
   "cell_type": "code",
   "execution_count": 23,
   "metadata": {},
   "outputs": [
    {
     "data": {
      "text/plain": [
       "44.4646678699531"
      ]
     },
     "execution_count": 23,
     "metadata": {},
     "output_type": "execute_result"
    }
   ],
   "source": [
    "tetra_geom"
   ]
  },
  {
   "cell_type": "markdown",
   "metadata": {},
   "source": [
    "### Problem 4 Fun with Polynomials\n",
    "In this exercise you’ll get a bit of experience writing higher-order functions. You may ignore error checking in this problem."
   ]
  },
  {
   "cell_type": "markdown",
   "metadata": {},
   "source": [
    "1. Write a function <span style=\"font-family:Courier; font-size:1em;\">make_poly</span> that takes a list of numbers (ints and/or floats) coeffs as its only argument and returns a function p. The list coeffs encodes the coefficients of a polynomial, $p(x) = a_{0} + a_{1}x + a_{2}x^{2} + ··· + a_{n}x^{n}$, with $a_{i}$ given by <span style=\"font-family:Courier; font-size:1em;\">coeffs[i]</span>. The function <span style=\"font-family:Courier; font-size:1em;\">p</span> should take a single number (int or float) x as its argument, and return the value of the polynomial $p$ evaluated at x.\n"
   ]
  },
  {
   "cell_type": "code",
   "execution_count": 24,
   "metadata": {},
   "outputs": [],
   "source": [
    "def make_poly(coeffs):\n",
    "    s = 0\n",
    "    return lambda x: sum(i * (x ** k) for k,i in enumerate(coeffs))"
   ]
  },
  {
   "cell_type": "code",
   "execution_count": 25,
   "metadata": {},
   "outputs": [
    {
     "data": {
      "text/plain": [
       "37"
      ]
     },
     "execution_count": 25,
     "metadata": {},
     "output_type": "execute_result"
    }
   ],
   "source": [
    "make_poly([1,2,2,3])(2)"
   ]
  },
  {
   "cell_type": "markdown",
   "metadata": {},
   "source": [
    "2. Write a function <span style=\"font-family:Courier; font-size:1em;\">eval_poly</span> that takes two lists of numbers (ints and/or floats),<span style=\"font-family:Courier; font-size:1em;\">coeffs</span> and <span style=\"font-family:Courier; font-size:1em;\">args</span>.<span style=\"font-family:Courier; font-size:1em;\">\n",
    "    \n",
    "    coeffs</span> encodes the coefficients of polynomial $p$, and your function should return the list of numbers (ints and/or floats) representing the result of evaluating the polynomial $p$ on each of the elements in <span style=\"font-family:Courier; font-size:1em;\">args</span>, in order.  \n",
    "    \n",
    "    You should be able to express the solution to this problem in a single line (not including the function definition header, of course). Your function should make use of <span style=\"font-family:Courier; font-size:1em;\">make_poly</span> from the previous part to receive full credit."
   ]
  },
  {
   "cell_type": "code",
   "execution_count": 26,
   "metadata": {},
   "outputs": [],
   "source": [
    "def eval_poly(coeffs, args):\n",
    "    return [make_poly(coeffs)(i) for i in args]"
   ]
  },
  {
   "cell_type": "code",
   "execution_count": 27,
   "metadata": {},
   "outputs": [
    {
     "data": {
      "text/plain": [
       "[8, 37, 106]"
      ]
     },
     "execution_count": 27,
     "metadata": {},
     "output_type": "execute_result"
    }
   ],
   "source": [
    "coeffs = [1,2,2,3]\n",
    "args = [1,2,3]\n",
    "eval_poly(coeffs, args)"
   ]
  }
 ],
 "metadata": {
  "kernelspec": {
   "display_name": "Python 3",
   "language": "python",
   "name": "python3"
  },
  "language_info": {
   "codemirror_mode": {
    "name": "ipython",
    "version": 3
   },
   "file_extension": ".py",
   "mimetype": "text/x-python",
   "name": "python",
   "nbconvert_exporter": "python",
   "pygments_lexer": "ipython3",
   "version": "3.7.1"
  }
 },
 "nbformat": 4,
 "nbformat_minor": 2
}
