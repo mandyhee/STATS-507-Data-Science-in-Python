{
 "cells": [
  {
   "cell_type": "markdown",
   "metadata": {},
   "source": [
    "## STATS 507 HW9 Algorithm Design and Analysis"
   ]
  },
  {
   "cell_type": "markdown",
   "metadata": {},
   "source": [
    "### Problem 1 Implementing a Basic Data Structure (6 points)"
   ]
  },
  {
   "cell_type": "markdown",
   "metadata": {},
   "source": [
    "#### 1. Define a class called a __`Trie`__, which supports the following methods:    \n",
    "\n",
    "   * `__init__(self)` : takes no arguments. Initializes an empty dictionary called `root` as the only instance attribute of the `Trie` object. This dictionary will serve as the data structure described in the previous paragraph.  \n",
    "   * `add(self,s)` : takes a string `s` as its only argument. Adds `s` to the trie represented by `self.root` according to the procedure described in the paragraph above.  \n",
    "   * `contains(self,s)` : takes a string `s` as its only argument and returns a boolean, which is True if and only if the string `s` is represented in the `trie`.  \n",
    "   * ` __repr__(self)` : takes no arguments. Returns a string representing the object. When you try to print an object, Python calls this method (if it exists).\n",
    "See https://docs.python.org/3.6/reference/datamodel.html#object.__repr__ for more information.  \n",
    "In our case, let’s just say that calling the `Trie.__repr__` method just returns the string representation of the dictionary, which you’ll recall is stored as `self.root`.\n",
    "\n",
    "   Give the end-character symbol ’’ the value `None`  \n",
    "   You are of course free to implement methods additional to these if you wish.   \n",
    "   __Hint__: you may find it helpful to write a “helper” method for use in the contains method, that takes a string and a dictionary as its two arguments, say, `contains_helper(s,d)`.  \n",
    "   If the first character of the string is not in the dictionary, you can safely return False.\n",
    "   If the first character is in the dictionary, we can recurse, `contains_helper(s[1:],d[s[0]])`.   \n",
    "   Be careful of the base case, where s is the empty string!  \n",
    "   A similar trick will also help with the `add` method.  \n",
    "  "
   ]
  },
  {
   "cell_type": "code",
   "execution_count": 161,
   "metadata": {},
   "outputs": [],
   "source": [
    "class Trie():\n",
    "    \n",
    "    # initialize empty dictionary\n",
    "    def __init__(self):\n",
    "        self.root = dict()\n",
    "\n",
    "    # return string of object (dictionary)\n",
    "    def __repr__(self):\n",
    "        return repr(self.root)\n",
    "    \n",
    "    # check if s contains in dictionary\n",
    "    def contains(self, s):\n",
    "        def contains_helper(s, node):\n",
    "\n",
    "            # first char not in node\n",
    "            if len(s) == 0:\n",
    "                return s in node\n",
    "            \n",
    "            if s[0] not in node:\n",
    "                return False\n",
    "            else:\n",
    "                return contains_helper(s[1:], node[s[0]])\n",
    "        return contains_helper(s, self.root)\n",
    "        \n",
    "    \n",
    "    # add s to dic\n",
    "    def add(self, s):\n",
    "        if self.contains(s):\n",
    "            return\n",
    "        def add_helper(s, node):\n",
    "            # base case\n",
    "            if len(s) == 0:\n",
    "                node[''] = None\n",
    "                return \n",
    "            # add keys\n",
    "            if s[0] not in node:\n",
    "                node[s[0]] = {}\n",
    "            return add_helper(s[1:], node[s[0]])\n",
    "        return add_helper(s, self.root)\n"
   ]
  },
  {
   "cell_type": "code",
   "execution_count": 162,
   "metadata": {},
   "outputs": [
    {
     "name": "stdout",
     "output_type": "stream",
     "text": [
      "True\n",
      "False\n",
      "True\n",
      "True\n",
      "True\n"
     ]
    },
    {
     "data": {
      "text/plain": [
       "<bound method Trie.__repr__ of {'h': {'e': {'a': {'d': {'': None}}}, 'i': {'': None, 'd': {'': None}}, 'o': {'w': {'d': {'y': {'': None}}}}, 'c': {'a': {'t': {'': None}}}}, 'c': {'a': {'t': {'': None}}}, 'p': {'h': {'a': {'s': {'e': {'': None}}}}}}>"
      ]
     },
     "execution_count": 162,
     "metadata": {},
     "output_type": "execute_result"
    }
   ],
   "source": [
    "my_trie = Trie()\n",
    "my_trie.add('head')\n",
    "my_trie.add('hi')\n",
    "my_trie.add('howdy')\n",
    "my_trie.add('cat')\n",
    "my_trie.add('hcat')\n",
    "my_trie.add('hid')\n",
    "my_trie.add('phase')\n",
    "\n",
    "\n",
    "print(my_trie.contains(\"hi\"))\n",
    "print(my_trie.contains(\"how\"))\n",
    "print(my_trie.contains(\"head\"))\n",
    "print(my_trie.contains(\"hcat\"))\n",
    "print(my_trie.contains(\"phase\"))\n",
    "my_trie.__repr__"
   ]
  },
  {
   "cell_type": "code",
   "execution_count": 163,
   "metadata": {},
   "outputs": [
    {
     "name": "stdout",
     "output_type": "stream",
     "text": [
      "False\n",
      "True\n",
      "False\n",
      "True\n",
      "False\n",
      "False\n"
     ]
    },
    {
     "data": {
      "text/plain": [
       "<bound method Trie.__repr__ of {'c': {'a': {'t': {'': None}, 'r': {'': None}}, 'o': {'g': {'': None}}}, 'd': {'o': {'g': {'': None}, '': None}, 'a': {'r': {'t': {'': None}}}}}>"
      ]
     },
     "execution_count": 163,
     "metadata": {},
     "output_type": "execute_result"
    }
   ],
   "source": [
    "my_trie = Trie()\n",
    "my_trie.add('cat')\n",
    "my_trie.add('car')\n",
    "my_trie.add('dog')\n",
    "my_trie.add('cog')\n",
    "my_trie.add('dart')\n",
    "my_trie.add('do')\n",
    "\n",
    "print(my_trie.contains(\"d\"))\n",
    "print(my_trie.contains(\"cat\"))\n",
    "print(my_trie.contains(\"don\"))\n",
    "print(my_trie.contains(\"do\"))\n",
    "print(my_trie.contains(\"catz\"))\n",
    "print(my_trie.contains(\"c\"))\n",
    "\n",
    "my_trie.__repr__"
   ]
  },
  {
   "cell_type": "markdown",
   "metadata": {},
   "source": [
    "#### 2. Write a function called `wordlist2trie` :\n",
    "* takes a `list` of strings as input \n",
    "* returns a `Trie` object representing the collection of strings in the input list. \n",
    "* Your function should perform __error checking__ to verify that the input is indeed a `list` and that all its elements are `strings`. \n",
    "* Note that we could just as well have implemented a method in the `Trie` class to do this, if we wanted."
   ]
  },
  {
   "cell_type": "code",
   "execution_count": 133,
   "metadata": {},
   "outputs": [],
   "source": [
    "def wordlist2trie(l):\n",
    "    my_trie = Trie()\n",
    "    if type(l) != list:\n",
    "        raise TypeError(\"input not list\")\n",
    "    for i in l:\n",
    "        if type(i) != str:\n",
    "            raise TypeError(\"elements not string\")\n",
    "        else:\n",
    "            my_trie.add(i)\n",
    "    \n",
    "    return my_trie"
   ]
  },
  {
   "cell_type": "code",
   "execution_count": 134,
   "metadata": {},
   "outputs": [
    {
     "data": {
      "text/plain": [
       "{'c': {'a': {'t': {'': None}, 'r': {'': None}}, 'o': {'g': {'': None}}}, 'd': {'o': {'g': {'': None}, '': None}, 'a': {'r': {'t': {'': None}}}}}"
      ]
     },
     "execution_count": 134,
     "metadata": {},
     "output_type": "execute_result"
    }
   ],
   "source": [
    "l = ['cat', 'dog', 'car', 'cog', 'dart', 'do']\n",
    "wordlist2trie(l)"
   ]
  },
  {
   "cell_type": "code",
   "execution_count": 135,
   "metadata": {},
   "outputs": [
    {
     "data": {
      "text/plain": [
       "__main__.Trie"
      ]
     },
     "execution_count": 135,
     "metadata": {},
     "output_type": "execute_result"
    }
   ],
   "source": [
    "type(wordlist2trie(l))"
   ]
  },
  {
   "cell_type": "markdown",
   "metadata": {},
   "source": [
    "#### 3.  Use `wordlist2trie` to build a trie representing the words in the word list:\n",
    "* Download the word list from http://www.greenteapress.com/thinkpython/code/words.txt (or read it directly using urlib or requests)\n",
    "* Save the result in a variable called __`big_trie`__\n"
   ]
  },
  {
   "cell_type": "code",
   "execution_count": 136,
   "metadata": {},
   "outputs": [
    {
     "data": {
      "text/plain": [
       "113809"
      ]
     },
     "execution_count": 136,
     "metadata": {},
     "output_type": "execute_result"
    }
   ],
   "source": [
    "import urllib.request\n",
    "with urllib.request.urlopen(\"http://www.greenteapress.com/thinkpython/code/words.txt\") as response:\n",
    "    txt = response.read()\n",
    "words = txt.decode('utf-8').splitlines()\n",
    "len(words)"
   ]
  },
  {
   "cell_type": "code",
   "execution_count": 137,
   "metadata": {},
   "outputs": [
    {
     "data": {
      "text/plain": [
       "['aa',\n",
       " 'aah',\n",
       " 'aahed',\n",
       " 'aahing',\n",
       " 'aahs',\n",
       " 'aal',\n",
       " 'aalii',\n",
       " 'aaliis',\n",
       " 'aals',\n",
       " 'aardvark']"
      ]
     },
     "execution_count": 137,
     "metadata": {},
     "output_type": "execute_result"
    }
   ],
   "source": [
    "words[:10]"
   ]
  },
  {
   "cell_type": "code",
   "execution_count": 138,
   "metadata": {},
   "outputs": [
    {
     "data": {
      "text/plain": [
       "['zymogenes',\n",
       " 'zymogens',\n",
       " 'zymologies',\n",
       " 'zymology',\n",
       " 'zymoses',\n",
       " 'zymosis',\n",
       " 'zymotic',\n",
       " 'zymurgies',\n",
       " 'zymurgy']"
      ]
     },
     "execution_count": 138,
     "metadata": {},
     "output_type": "execute_result"
    }
   ],
   "source": [
    "words[113800:]"
   ]
  },
  {
   "cell_type": "code",
   "execution_count": 139,
   "metadata": {},
   "outputs": [],
   "source": [
    "big_trie = wordlist2trie(words)"
   ]
  },
  {
   "cell_type": "code",
   "execution_count": 140,
   "metadata": {},
   "outputs": [
    {
     "name": "stdout",
     "output_type": "stream",
     "text": [
      "True\n",
      "False\n",
      "True\n",
      "False\n"
     ]
    }
   ],
   "source": [
    "print(big_trie.contains('aa'))\n",
    "print(big_trie.contains('abc'))\n",
    "print(big_trie.contains('zymogenes'))\n",
    "print(big_trie.contains('zymzu'))"
   ]
  },
  {
   "cell_type": "markdown",
   "metadata": {},
   "source": [
    "### Problem 2 Comparing Sorting Algorithms  (4 points)\n",
    "A point that we touched upon in lecture is the distinction between worst-case and average-case run time. That is, an algorithm may require, say, $O(n)$ time to run on most inputs, but certain inputs require, say, $O(n^{2})$ time. In this problem, you’ll see an illustration of this phenomenon in the context of sorting algorithms.\n",
    "\n",
    "We are going to compare the performance of three popular sorting algorithms: merge sort, quicksort and bubble sort. Their respective Wikipedia pages, each of which includes pseudocode, which you are free to consult.  \n",
    "Some of these pages display pseudocode for multiple variants of the algorithms (e.g., implementing certain small optimizations).   \n",
    "You are not required to implement any of these speedups, but you are welcome to do so if you wish.   \n",
    "You are free, if you wish, to simply copy the implementation of quicksort from the lecture slides. \n",
    "\n",
    "__Note__: looking up solutions to this problem from any resource other than these Wikipedia pages and the course materials will be considered academic misconduct and will be referred to Rackham’s academic integrity office accordingly.  \n",
    "                               https://en.wikipedia.org/wiki/Merge_sort  \n",
    "                               https://en.wikipedia.org/wiki/Quicksort  \n",
    "                               https://en.wikipedia.org/wiki/Bubble_sort  \n"
   ]
  },
  {
   "cell_type": "markdown",
   "metadata": {},
   "source": [
    "#### 1. Implement functions called `mergesort`, `quicksort` and `bubblesort`:\n",
    "* Each of which takes as input a `list` of numbers (ints and/or floats) and returns the `list` with elements sorts in non-decreasing order. \n",
    "* Your sorting functions should perform __error checking__ to ensure that the input is a `list` and that the elements of the list are all numeric (i.e., `ints` and/or `floats`). \n",
    "* Your __`quicksort`__ should use the last element of the input list as the pivot."
   ]
  },
  {
   "cell_type": "markdown",
   "metadata": {},
   "source": [
    "__Merge sort__: pseudocode from wiki\n",
    "\n",
    "    function merge_sort(list m)\n",
    "        // Base case. A list of zero or one elements is sorted, by definition.\n",
    "        if length of m ≤ 1 then\n",
    "            return m\n",
    "\n",
    "        // Recursive case. First, divide the list into equal-sized sublists\n",
    "        // consisting of the first half and second half of the list.\n",
    "        // This assumes lists start at index 0.\n",
    "        var left := empty list\n",
    "        var right := empty list\n",
    "        for each x with index i in m do\n",
    "            if i < (length of m)/2 then\n",
    "                add x to left\n",
    "            else\n",
    "                add x to right\n",
    "\n",
    "        // Recursively sort both sublists.\n",
    "        left := merge_sort(left)\n",
    "        right := merge_sort(right)\n",
    "\n",
    "        // Then merge the now-sorted sublists.\n",
    "        return merge(left, right)\n",
    "\n",
    "    function merge(left, right)\n",
    "        var result := empty list\n",
    "\n",
    "        while left is not empty and right is not empty do\n",
    "            if first(left) ≤ first(right) then\n",
    "                append first(left) to result\n",
    "                left := rest(left)\n",
    "            else\n",
    "                append first(right) to result\n",
    "                right := rest(right)\n",
    "\n",
    "        // Either left or right may have elements left; consume them.\n",
    "        // (Only one of the following loops will actually be entered.)\n",
    "        while left is not empty do\n",
    "            append first(left) to result\n",
    "            left := rest(left)\n",
    "        while right is not empty do\n",
    "            append first(right) to result\n",
    "            right := rest(right)\n",
    "        return result"
   ]
  },
  {
   "cell_type": "code",
   "execution_count": 141,
   "metadata": {},
   "outputs": [],
   "source": [
    "def mergesort(m):\n",
    "    \n",
    "    # error check\n",
    "    if type(m) != list:\n",
    "        raise TypeError(\"input not list\")\n",
    "    for i in m:\n",
    "        if not (type(i) == int or type(i) == float):\n",
    "            raise TypeError(\"element not int or float\")\n",
    "    \n",
    "    # create sublist\n",
    "    if len(m) <= 1:\n",
    "        return m\n",
    "    \n",
    "    (merge,left,right) = (list(),list(),list())\n",
    "\n",
    "    for i in range(len(m)):\n",
    "        if i < int(len(m)/2):\n",
    "            left.append(m[i])\n",
    "        else:\n",
    "            right.append(m[i])\n",
    "    \n",
    "    # recursive \n",
    "    left_update = mergesort(left)\n",
    "    right_update = mergesort(right) \n",
    "    \n",
    "    # merge\n",
    "    while (len(left_update) >= 1) and (len(right_update) >= 1):\n",
    "        if left_update[0] < right_update[0]:\n",
    "            merge.append(left_update[0])\n",
    "            left_update.remove(left_update[0])\n",
    "        else:\n",
    "            merge.append(right_update[0])\n",
    "            right_update.remove(right_update[0])\n",
    "    \n",
    "    \n",
    "    merge += (left_update + right_update)\n",
    "    return merge\n"
   ]
  },
  {
   "cell_type": "code",
   "execution_count": 142,
   "metadata": {},
   "outputs": [
    {
     "data": {
      "text/plain": [
       "[1, 2, 3, 3, 5]"
      ]
     },
     "execution_count": 142,
     "metadata": {},
     "output_type": "execute_result"
    }
   ],
   "source": [
    "mergesort([3,5,2,1,3])"
   ]
  },
  {
   "cell_type": "code",
   "execution_count": 143,
   "metadata": {},
   "outputs": [
    {
     "data": {
      "text/plain": [
       "[0, 0, 2, 5, 6, 18, 87, 100, 278]"
      ]
     },
     "execution_count": 143,
     "metadata": {},
     "output_type": "execute_result"
    }
   ],
   "source": [
    "mergesort([18, 2, 6, 0, 0, 278, 5, 87, 100])"
   ]
  },
  {
   "cell_type": "markdown",
   "metadata": {},
   "source": [
    "__bubble sort__: pseudocode from wiki\n",
    "\n",
    "    procedure bubbleSort( A : list of sortable items )\n",
    "        n = length(A)\n",
    "        repeat\n",
    "            newn = 0\n",
    "            for i = 1 to n-1 inclusive do\n",
    "                if A[i] > A[i+1] then\n",
    "                    swap(A[i], A[i+1])\n",
    "                    newn = i\n",
    "                end if\n",
    "            end for\n",
    "            n = newn\n",
    "        until n <= 1\n",
    "    end procedure"
   ]
  },
  {
   "cell_type": "code",
   "execution_count": 144,
   "metadata": {},
   "outputs": [],
   "source": [
    "def bubblesort(m):\n",
    "    # error check\n",
    "    if type(m) != list:\n",
    "        raise TypeError(\"input not list\")\n",
    "    for i in m:\n",
    "        if not (type(i) == int or type(i) == float):\n",
    "            raise TypeError(\"element not int or float\")\n",
    "    \n",
    "    # bubble sort: compare one by one\n",
    "    n = len(m)\n",
    "    while n > 1:\n",
    "        new_n = 0\n",
    "        for i in range(0, len(m)-1):\n",
    "            if m[i] > m[i+1]:\n",
    "                m[i], m[i+1] = m[i+1], m[i]\n",
    "                new_n = i\n",
    "        #print(m)\n",
    "        n = new_n\n",
    "        \n",
    "    return m"
   ]
  },
  {
   "cell_type": "code",
   "execution_count": 145,
   "metadata": {},
   "outputs": [
    {
     "data": {
      "text/plain": [
       "[0, 0, 2, 5, 6, 18, 87, 100, 278]"
      ]
     },
     "execution_count": 145,
     "metadata": {},
     "output_type": "execute_result"
    }
   ],
   "source": [
    "bubblesort([18, 2, 6, 0, 0, 278, 5, 87, 100])"
   ]
  },
  {
   "cell_type": "code",
   "execution_count": 146,
   "metadata": {},
   "outputs": [
    {
     "data": {
      "text/plain": [
       "[1, 2, 3, 4, 7]"
      ]
     },
     "execution_count": 146,
     "metadata": {},
     "output_type": "execute_result"
    }
   ],
   "source": [
    "bubblesort([2,1,4,7,3])"
   ]
  },
  {
   "cell_type": "markdown",
   "metadata": {},
   "source": [
    "#### Quick sort: \n",
    "Code adapted from lecture notes"
   ]
  },
  {
   "cell_type": "code",
   "execution_count": 147,
   "metadata": {},
   "outputs": [],
   "source": [
    "def quicksort(t):\n",
    "    \n",
    "    # error check:\n",
    "    if type(t) != list:\n",
    "        raise TypeError(\"input not list\")\n",
    "    for i in t:\n",
    "        if not (type(i) == int or type(i) == float):\n",
    "            raise TypeError(\"element not int or float\")\n",
    "    \n",
    "    # only one element\n",
    "    if len(t) <= 1:\n",
    "        return t\n",
    "    # quick sort using last element of the input list as the pivot\n",
    "    (less,mid,more) = (list(),list(),list())\n",
    "    pivot = t[len(t)-1]\n",
    "    mid.append(pivot)\n",
    "    for i in range(0,len(t)-1):\n",
    "        if t[i] == pivot:\n",
    "            mid.append(t[i])\n",
    "        elif t[i] < pivot:\n",
    "            less.append(t[i])\n",
    "        else: # t[i] > pivot\n",
    "            more.append(t[i])\n",
    "\n",
    "    return quicksort(less) + mid + quicksort(more)"
   ]
  },
  {
   "cell_type": "code",
   "execution_count": 148,
   "metadata": {},
   "outputs": [
    {
     "data": {
      "text/plain": [
       "[1, 2, 3, 4, 7]"
      ]
     },
     "execution_count": 148,
     "metadata": {},
     "output_type": "execute_result"
    }
   ],
   "source": [
    "quicksort([2,1,4,7,3])"
   ]
  },
  {
   "cell_type": "code",
   "execution_count": 149,
   "metadata": {},
   "outputs": [
    {
     "data": {
      "text/plain": [
       "[0, 0, 2, 5, 6, 18, 87, 100, 278]"
      ]
     },
     "execution_count": 149,
     "metadata": {},
     "output_type": "execute_result"
    }
   ],
   "source": [
    "quicksort([18, 2, 6, 0, 0, 278, 5, 87, 100])"
   ]
  },
  {
   "cell_type": "markdown",
   "metadata": {},
   "source": [
    "__2. Write a function called `run_timing_expt`__:\n",
    "   * takes a list of numbers (ints and/or floats) as its only input. (error check)\n",
    "   * Calling this function should run each of the three sorting algorithms implemented in the previous subproblem on the given list, timing each call. \n",
    "   * The function should return a tuple of floats `(t_merge,t_quick,t_bubble)` corresponding to the times that it took to sort the input list with merge sort, quicksort and bubble sort, respectively.\n",
    "\n",
    "   * The Wikipedia page on sorting algorithms includes information about best-, average- and worst-case runtimes for a number of sorting algorithms: https://en.wikipedia.org/wiki/Sorting_algorithm#Comparison_of_algorithms. \n",
    "   * Note that our three algorithms differ in some of these. For example, merge sort and quicksort both have $O(n\\log n)$ average-case runtime, while bubble sort is $O(n^{2})$ runtime in both the average and worst case. "
   ]
  },
  {
   "cell_type": "code",
   "execution_count": 150,
   "metadata": {},
   "outputs": [
    {
     "data": {
      "text/plain": [
       "7.510185241699219e-05"
      ]
     },
     "execution_count": 150,
     "metadata": {},
     "output_type": "execute_result"
    }
   ],
   "source": [
    "import time\n",
    "start_time = time.time()\n",
    "quicksort([18, 2, 6, 0, 0, 278, 5, 87, 100])\n",
    "end_time = time.time() - start_time\n",
    "end_time"
   ]
  },
  {
   "cell_type": "code",
   "execution_count": 151,
   "metadata": {},
   "outputs": [],
   "source": [
    "def run_timing_expt(l):\n",
    "     # error check:\n",
    "    if type(l) != list:\n",
    "        raise TypeError(\"input not list\")\n",
    "    for i in l:\n",
    "        if not (type(i) == int or type(i) == float):\n",
    "            raise TypeError(\"element not int or float\")\n",
    "    \n",
    "    # merge sort\n",
    "    merge_start = time.time()\n",
    "    mergesort(l)\n",
    "    t_merge = time.time() - merge_start\n",
    "    \n",
    "    # quick sort\n",
    "    quick_start = time.time()\n",
    "    quicksort(l)\n",
    "    t_quick = time.time() - quick_start\n",
    "    \n",
    "    # bubble sort\n",
    "    bubble_start = time.time()\n",
    "    bubblesort(l)\n",
    "    t_bubble = time.time() - bubble_start\n",
    "    \n",
    "    return (t_merge, t_quick, t_bubble)"
   ]
  },
  {
   "cell_type": "code",
   "execution_count": 152,
   "metadata": {},
   "outputs": [
    {
     "data": {
      "text/plain": [
       "(4.100799560546875e-05, 1.7881393432617188e-05, 9.298324584960938e-06)"
      ]
     },
     "execution_count": 152,
     "metadata": {},
     "output_type": "execute_result"
    }
   ],
   "source": [
    "run_timing_expt([18, 2, 6, 0, 0, 278, 5, 87, 100])"
   ]
  },
  {
   "cell_type": "markdown",
   "metadata": {},
   "source": [
    "__3. Make a plot that shows the average runtime of the three sorting algorithms as a function of the input size n__: \n",
    "   * Now, we will use the functions defined in the previous two subproblems to explore the behavior of these three sorting algorithms on different kinds of input lists. \n",
    "   * First, let’s see what happens when we pass an already-sorted list. For n = 500,1000,1500,2000,2500, call `run_timing_expt(list(range(n)))` twenty times. \n",
    "\n",
    "   * Please include error bars in your plot indicating 2 standard errors (2SE) of the mean. \n",
    "   * Give your plot an appropriate title, and label the axes. \n",
    "   * Save your plot as __ascending.pdf__ and include it in your submission. \n",
    "   * __Note__: if you call `quicksort` on an already-sorted list of size much larger than 2500 you will encounter a recursion depth error (assuming that you are running with the default maximum recursion depth of 5000). Why is this the case? Under more realistic conditions, this would cause quicksort to be slow. In this case, it simply causes quicksort to be unusable for even moderately large inputs."
   ]
  },
  {
   "cell_type": "code",
   "execution_count": 153,
   "metadata": {},
   "outputs": [],
   "source": [
    "import time\n",
    "import numpy as np\n",
    "size = [500, 1000, 1500, 2000, 2500]\n",
    "\n",
    "(merge_mean, quick_mean, bubble_mean) = (list(), list(), list())\n",
    "(merge_2se, quick_2se, bubble_2se) = (list(), list(), list())\n",
    "\n",
    "for n in size:\n",
    "    (merge, quick, bubble) = (list(), list(), list())\n",
    "    for i in range(20):\n",
    "        merge.append(run_timing_expt(list(range(n)))[0])\n",
    "        quick.append(run_timing_expt(list(range(n)))[1])\n",
    "        bubble.append(run_timing_expt(list(range(n)))[2])\n",
    "        \n",
    "    merge_mean.append(np.mean(merge))\n",
    "    merge_2se.append(2*np.std(merge)/np.sqrt(20))\n",
    "    quick_mean.append(np.mean(quick))\n",
    "    quick_2se.append(2*np.std(quick)/np.sqrt(20))\n",
    "    bubble_mean.append(np.mean(bubble))\n",
    "    bubble_2se.append(2*np.std(bubble)/np.sqrt(20))\n",
    "    "
   ]
  },
  {
   "cell_type": "code",
   "execution_count": 154,
   "metadata": {
    "scrolled": true
   },
   "outputs": [
    {
     "name": "stdout",
     "output_type": "stream",
     "text": [
      "[0.003580164909362793, 0.008352887630462647, 0.012412571907043457, 0.016753411293029784, 0.021007454395294188]\n",
      "[0.036772310733795166, 0.14332914352416992, 0.31928640604019165, 0.5316968083381652, 0.8515040159225464]\n",
      "[9.881258010864258e-05, 0.00021055936813354492, 0.00030291080474853516, 0.00037511587142944334, 0.000462496280670166]\n"
     ]
    }
   ],
   "source": [
    "print(merge_mean)\n",
    "print(quick_mean)\n",
    "print(bubble_mean)"
   ]
  },
  {
   "cell_type": "code",
   "execution_count": 155,
   "metadata": {},
   "outputs": [
    {
     "name": "stdout",
     "output_type": "stream",
     "text": [
      "[0.0001008523671536562, 0.0005635483270597367, 0.0005671055985603477, 0.0006669723200420904, 0.00021284020963627226]\n",
      "[0.0019760831461477246, 0.0072330621534830485, 0.015019114352368936, 0.002616497784202689, 0.01672594206004798]\n",
      "[9.29462377553594e-06, 2.7768821319212313e-05, 2.4054355172299002e-05, 1.0972191642698783e-05, 6.238669852845155e-06]\n"
     ]
    }
   ],
   "source": [
    "print(merge_2se)\n",
    "print(quick_2se)\n",
    "print(bubble_2se)"
   ]
  },
  {
   "cell_type": "code",
   "execution_count": 156,
   "metadata": {},
   "outputs": [
    {
     "data": {
      "image/png": "[encoded data removed]",
      "text/plain": [
       "<Figure size 1440x1080 with 1 Axes>"
      ]
     },
     "metadata": {
      "needs_background": "light"
     },
     "output_type": "display_data"
    }
   ],
   "source": [
    "import matplotlib.pyplot as plt   \n",
    "# the x locations for the groups\n",
    "g1 = np.arange(5)\n",
    "width = 0.15 \n",
    "g2 = [x + width for x in g1]\n",
    "g3 = [x + width for x in g2]\n",
    "\n",
    "fig, ax = plt.subplots(figsize=(20,15))\n",
    "merge = ax.bar(g1, tuple(merge_mean), width, yerr = tuple(merge_2se), color='r')\n",
    "quick = ax.bar(g2, tuple(quick_mean), width, yerr = tuple(quick_2se), color='b')\n",
    "bubble = ax.bar(g3, tuple(bubble_mean), width, yerr = tuple(bubble_2se), color='g')\n",
    "\n",
    "ax.set_title('Runtime for merge, quick, bubble sort with already sorted list')\n",
    "ax.set_xticks(g1 + width / 2)\n",
    "ax.set_xticklabels(('N = 500', 'N = 1000', 'N = 1500', 'N = 2000', 'N = 2500'))\n",
    "ax.set_xlabel('list length')\n",
    "ax.set_ylabel('Runtime(seconds)')\n",
    "ax.legend((merge[0], quick[0], bubble[0]), ('mergesort', 'quicksort', 'bubblesort'))\n",
    "fig.savefig('ascending.pdf', bbox_inches=\"tight\")"
   ]
  },
  {
   "cell_type": "markdown",
   "metadata": {},
   "source": [
    "__4. Run the same experiment, but this time with the input being a list sorted in descending order.__ \n",
    " * That is, you should run twenty trials of `run_timing_expt(sorted(list(range(n)), reverse=True))` for n = 500, 1000, 1500, 2000, 2500. \n",
    "\n",
    " * Again make a plot summarizing the results and including an appropriate title and axis labels. \n",
    " * Please include error bars in your plot indicating 2 standard errors of the mean. \n",
    " * Save your plot as __descending.pdf__ and include it in your submission."
   ]
  },
  {
   "cell_type": "code",
   "execution_count": 157,
   "metadata": {},
   "outputs": [],
   "source": [
    "times = [500, 1000, 1500, 2000, 2500]\n",
    "\n",
    "(merge_mean, quick_mean, bubble_mean) = (list(), list(), list())\n",
    "(merge_2se, quick_2se, bubble_2se) = (list(), list(), list())\n",
    "\n",
    "for n in times:\n",
    "    (merge, quick, bubble) = (list(), list(), list())\n",
    "    for i in range(20):\n",
    "        merge.append(run_timing_expt(sorted(list(range(n)), reverse=True))[0])\n",
    "        quick.append(run_timing_expt(sorted(list(range(n)), reverse=True))[1])\n",
    "        bubble.append(run_timing_expt(sorted(list(range(n)), reverse=True))[2])\n",
    "        \n",
    "    merge_mean.append(np.mean(merge))\n",
    "    merge_2se.append(2*np.std(merge)/np.sqrt(20))\n",
    "    quick_mean.append(np.mean(quick))\n",
    "    quick_2se.append(2*np.std(quick)/np.sqrt(20))\n",
    "    bubble_mean.append(np.mean(bubble))\n",
    "    bubble_2se.append(2*np.std(bubble)/np.sqrt(20))\n",
    "    "
   ]
  },
  {
   "cell_type": "code",
   "execution_count": 158,
   "metadata": {},
   "outputs": [
    {
     "data": {
      "image/png": "[encoded data removed]",
      "text/plain": [
       "<Figure size 1440x1080 with 1 Axes>"
      ]
     },
     "metadata": {
      "needs_background": "light"
     },
     "output_type": "display_data"
    }
   ],
   "source": [
    "# the x locations for the groups\n",
    "g1 = np.arange(5)\n",
    "width = 0.15 \n",
    "g2 = [x + width for x in g1]\n",
    "g3 = [x + width for x in g2]\n",
    "\n",
    "fig, ax = plt.subplots(figsize=(20,15))\n",
    "merge = ax.bar(g1, tuple(merge_mean), width, yerr = tuple(merge_2se), color='r')\n",
    "quick = ax.bar(g2, tuple(quick_mean), width, yerr = tuple(quick_2se), color='b')\n",
    "bubble = ax.bar(g3, tuple(bubble_mean), width, yerr = tuple(bubble_2se), color='g')\n",
    "\n",
    "ax.set_title('Runtime for merge, quick, bubble sort with already sorted list in descending order')\n",
    "ax.set_xticks(g1 + width / 2)\n",
    "ax.set_xticklabels(('N = 500', 'N = 1000', 'N = 1500', 'N = 2000', 'N = 2500'))\n",
    "ax.set_xlabel('list length')\n",
    "ax.set_ylabel('Runtime(seconds)')\n",
    "ax.legend((merge[0], quick[0], bubble[0]), ('mergesort', 'quicksort', 'bubblesort'))\n",
    "fig.savefig('descending.pdf', bbox_inches=\"tight\")"
   ]
  },
  {
   "cell_type": "markdown",
   "metadata": {},
   "source": [
    "__5. Run the same experiment, but this time on random inputs.__ \n",
    "  * That is, for each value of n in the previous subproblem, run 20 independent trials of `run_timing_expt([random.random() for _ in range(n)])`\n",
    "  * Again make a plot summarizing the results and including an appropriate title and axis labels. \n",
    "  * Please include error bars in your plot indicating 2 standard errors of the mean. \n",
    "  * Save your plot as __random.pdf__ and include it in your submission."
   ]
  },
  {
   "cell_type": "code",
   "execution_count": 159,
   "metadata": {},
   "outputs": [],
   "source": [
    "import random\n",
    "times = [500, 1000, 1500, 2000, 2500]\n",
    "\n",
    "(merge_mean, quick_mean, bubble_mean) = (list(), list(), list())\n",
    "(merge_2se, quick_2se, bubble_2se) = (list(), list(), list())\n",
    "\n",
    "for n in times:\n",
    "    (merge, quick, bubble) = (list(), list(), list())\n",
    "    for i in range(20):\n",
    "        merge.append(run_timing_expt([random.random() for _ in range(n)])[0])\n",
    "        quick.append(run_timing_expt([random.random() for _ in range(n)])[1])\n",
    "        bubble.append(run_timing_expt([random.random() for _ in range(n)])[2])\n",
    "        \n",
    "    merge_mean.append(np.mean(merge))\n",
    "    merge_2se.append(2*np.std(merge)/np.sqrt(20))\n",
    "    quick_mean.append(np.mean(quick))\n",
    "    quick_2se.append(2*np.std(quick)/np.sqrt(20))\n",
    "    bubble_mean.append(np.mean(bubble))\n",
    "    bubble_2se.append(2*np.std(bubble)/np.sqrt(20))\n",
    "    "
   ]
  },
  {
   "cell_type": "code",
   "execution_count": 160,
   "metadata": {},
   "outputs": [
    {
     "data": {
      "image/png": "[encoded data removed]",
      "text/plain": [
       "<Figure size 1440x1080 with 1 Axes>"
      ]
     },
     "metadata": {
      "needs_background": "light"
     },
     "output_type": "display_data"
    }
   ],
   "source": [
    "# the x locations for the groups\n",
    "g1 = np.arange(5)\n",
    "width = 0.15 \n",
    "g2 = [x + width for x in g1]\n",
    "g3 = [x + width for x in g2]\n",
    "\n",
    "fig, ax = plt.subplots(figsize=(20,15))\n",
    "merge = ax.bar(g1, tuple(merge_mean), width, yerr = tuple(merge_2se), color='r')\n",
    "quick = ax.bar(g2, tuple(quick_mean), width, yerr = tuple(quick_2se), color='b')\n",
    "bubble = ax.bar(g3, tuple(bubble_mean), width, yerr = tuple(bubble_2se), color='g')\n",
    "\n",
    "ax.set_title('Runtime for merge, quick, bubble sort using random list')\n",
    "ax.set_xticks(g1 + width / 2)\n",
    "ax.set_xticklabels(('N = 500', 'N = 1000', 'N = 1500', 'N = 2000', 'N = 2500'))\n",
    "ax.set_xlabel('list length')\n",
    "ax.set_ylabel('Runtime(seconds)')\n",
    "ax.legend((merge[0], quick[0], bubble[0]), ('mergesort', 'quicksort', 'bubblesort'))\n",
    "fig.savefig('random.pdf', bbox_inches=\"tight\")"
   ]
  },
  {
   "cell_type": "code",
   "execution_count": null,
   "metadata": {},
   "outputs": [],
   "source": []
  },
  {
   "cell_type": "code",
   "execution_count": null,
   "metadata": {},
   "outputs": [],
   "source": []
  }
 ],
 "metadata": {
  "kernelspec": {
   "display_name": "Python 3",
   "language": "python",
   "name": "python3"
  },
  "language_info": {
   "codemirror_mode": {
    "name": "ipython",
    "version": 3
   },
   "file_extension": ".py",
   "mimetype": "text/x-python",
   "name": "python",
   "nbconvert_exporter": "python",
   "pygments_lexer": "ipython3",
   "version": "3.7.2"
  }
 },
 "nbformat": 4,
 "nbformat_minor": 2
}
