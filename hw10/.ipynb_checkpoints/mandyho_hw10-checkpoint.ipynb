{
 "cells": [
  {
   "cell_type": "markdown",
   "metadata": {},
   "source": [
    "## STATS 507 HW10 Google Tensorflow"
   ]
  },
  {
   "cell_type": "markdown",
   "metadata": {},
   "source": [
    "## Problem 1: Warm up: constructing a 3-tensor\n",
    "* Create a TensorFlow constant tensor __`tflogo`__ with shape 5-by-4-by-3. (five cells tall, four wide, three deep)\n",
    "* This tensor will represent the 5-by-4-by-3 volume that contains the orange structure depicted in the logo (said another way, the orange structure is inscribed in this 5-by-4-by-3 volume). \n",
    "* Each cell of your tensor should correspond to one cell in this volume. \n",
    "* Each entry of your tensor should be 1 if and only if the corresponding cell is part of the orange structure, and should be 0 otherwise. \n",
    "* Looking at the logo, we see that the orange structure can be __broken into 11 cubic cells, so your tensor `tflogo` should have precisely 11 non-zero entries__. \n",
    "* For the sake of consistency, the (0, 3, 2)-entry of your tensor (using 0-indexing) should correspond to the top rear corner of the structure where the cross of the “T” meets the top of the “F”. \n",
    "* __Note__: if you look carefully, the shadows in the logo do not correctly reflect the orange structure—the shadow of the “T” is incorrectly drawn. Do not let this fool you!\n",
    "* __Hint__: you may find it easier to create a Numpy array representing the structure first, then turn that Numpy array into a TensorFlow constant. \n",
    "* __Second hint__: as a sanity check, try printing your tensor. You should see a series of 4-by-3 matrices, as though you were looking at one horizontal slice of the tensor at a time, working your way from top to bottom.\n"
   ]
  },
  {
   "cell_type": "code",
   "execution_count": 51,
   "metadata": {},
   "outputs": [],
   "source": [
    "import numpy as np\n",
    "import tensorflow as tf"
   ]
  },
  {
   "cell_type": "code",
   "execution_count": 52,
   "metadata": {},
   "outputs": [
    {
     "data": {
      "text/plain": [
       "(5, 4, 3)"
      ]
     },
     "execution_count": 52,
     "metadata": {},
     "output_type": "execute_result"
    }
   ],
   "source": [
    "# five layer, start from top\n",
    "layer0 = np.array([[0, 0, 1], \n",
    "                  [0, 0, 1],\n",
    "                  [0, 0, 1],\n",
    "                  [1, 1, 1]])\n",
    "layer1 = np.array([[0, 0, 0], \n",
    "                   [0, 0, 0],\n",
    "                   [0, 0, 1],\n",
    "                   [0, 0, 0]])\n",
    "layer2 = np.array([[0, 0, 0], \n",
    "                  [0, 0, 0],\n",
    "                  [0, 1, 1],\n",
    "                  [0, 0, 0]])\n",
    "layer3 = np.array([[0, 0, 0], \n",
    "                  [0, 0, 0],\n",
    "                  [0, 0, 1],\n",
    "                  [0, 0, 0]])\n",
    "layer4 = np.array([[0, 0, 0], \n",
    "                  [0, 0, 0],\n",
    "                  [0, 0, 1],\n",
    "                  [0, 0, 0] ])\n",
    "combine = np.array([layer0, layer1, layer2, layer3, layer4])\n",
    "combine.shape"
   ]
  },
  {
   "cell_type": "code",
   "execution_count": 53,
   "metadata": {},
   "outputs": [
    {
     "name": "stdout",
     "output_type": "stream",
     "text": [
      "[[1 1 1 3]\n",
      " [0 0 1 0]\n",
      " [0 0 2 0]\n",
      " [0 0 1 0]\n",
      " [0 0 1 0]]\n",
      "[[1 1 4]\n",
      " [0 0 1]\n",
      " [0 1 1]\n",
      " [0 0 1]\n",
      " [0 0 1]]\n"
     ]
    }
   ],
   "source": [
    "# create tf constant\n",
    "tflogo = tf.constant(combine)\n",
    "# T: add up axis 2 (z-direction)\n",
    "T = tf.reduce_sum(tflogo, axis=2)\n",
    "# F: add up axis 1 (y-direction)\n",
    "F = tf.reduce_sum(tflogo, axis=1)\n",
    "# check the \"T\" and \"F\" \n",
    "with tf.Session() as sess:\n",
    "    print(sess.run(T))\n",
    "    print(sess.run(F))"
   ]
  },
  {
   "cell_type": "markdown",
   "metadata": {},
   "source": [
    "## Problem 2: Building and training sample models\n",
    "* In this problem, you’ll use TensorFlow to build the loss functions for a pair of commonly used statistical models.\n",
    "* In all cases, your answer should include __placeholder variables `x` and `ytrue`, which will serve as the predictor (independent variable) and response (dependent variable)__, respectively. \n",
    "* Please use `W` to denote a parameter that multiplies the predictor, and `b` to denote a bias parameter (i.e., a parameter that is added).\n"
   ]
  },
  {
   "cell_type": "markdown",
   "metadata": {},
   "source": [
    "### 1. Logistic regression with a negative log-likelihood loss. \n",
    "* In this model, which we discussed briefly in class, the binary variable `Y` is distributed as a Bernoulli random variable with success parameter $\\sigma(W^{T}X + b)$, where $\\sigma(z) = (1 + exp(−z))^{−1}$ is the logistic function, and $X ∈ R^{6}$ is the predictor random variable, and $W ∈ R^{6}$, $b ∈ R$ are the model parameters. \n",
    "* Derive the log-likelihood of `Y` , and write the TensorFlow code that represents the negative log-likelihood loss function. \n",
    "* Hint: the loss should be a sum over all observations of a negative log-likelihood term.\n",
    "\n",
    "(1) Since $p = \\sigma(W^{T}X + b)$, and  $\\sigma(z) = (1 + exp(−z))^{−1}$, set $z = W^{T}X + b$, we get $p = [1 + exp(−[W^{T}X + b])]^{−1}$  \n",
    "(2) Bernoulli distribution: $f(x) = p^{y}(1-p)^{1-y}$  \n",
    "(3) log-likelihood = $\\Sigma_{n=1}^{N} \\log(p_{n}^{y_n}(1-p_{n})^{1-y_n}) = \\Sigma_{n=1}^{N} (\\log (1-p_{n}) + y_{n} \\log \\frac {p_{n}}{1-p_{n}}) = \\Sigma_{n=1}^{N} y_n(w^{T}X_{n} + b) - \\log(1 + \\exp(w^{T}X_{n} + b))$  \n",
    "(4) $X ∈ R^{6}$, $W ∈ R^{6}$, $b ∈ R$  "
   ]
  },
  {
   "cell_type": "code",
   "execution_count": 54,
   "metadata": {},
   "outputs": [],
   "source": [
    "# inputs\n",
    "x = tf.placeholder(tf.float64, shape=(None, 6))\n",
    "ytrue = tf.placeholder(tf.float64)\n",
    "\n",
    "# regression parameters, initialized with 0\n",
    "w = tf.Variable(tf.ones([6,1], dtype=tf.float64))\n",
    "b = tf.Variable(tf.ones([1], dtype=tf.float64))\n",
    "one = tf.cast(1, dtype=tf.float64)\n",
    "score = tf.matmul(x, w) + b\n",
    "# negative log-likelihood\n",
    "loss = tf.reduce_sum(-ytrue*score + tf.log(one + tf.exp(score)))"
   ]
  },
  {
   "cell_type": "markdown",
   "metadata": {},
   "source": [
    "### 2. Estimating parameters in logistic regression.\n",
    " The zip file at http://www-personal.umich.edu/~klevin/teaching/Winter2019/STATS507/HW10_logistic.zip contains four Numpy `.npy` files that contain train and test data generated from a logistic model:  \n",
    "(1) `logistic_xtest.npy` : contains a 500-by-6 matrix whose rows are the independent variables (predictors) from the test set.  \n",
    "(2) `logistic_xtrain.npy` : contains a 2000-by-6 matrix whose rows are the independent variables (predictors) from the train set.  \n",
    "(3) `logistic_ytest.npy` : contains a binary 500-dimensional vector of dependent variables (responses) from the test set.  \n",
    "(4) `logistic_ytrain.npy` : contains a binary 2000-dimensional vector of dependent variables (responses) from the train set  \n",
    "* The i-th row of the matrix in `logistic_xtrain.npy` is the predictor for the response in the i-th entry of the vector in `logistic_ytrain.npy`, and analogously for the two test set files. \n",
    "\n",
    "* Please include these files in your submission so that we can run your code without downloading them again. \n",
    "* Note: we didn’t discuss reading numpy data from files. To load the files, you can simply call `xtrain = np.load(’xtrain.npy’)` to read the data into the variable xtrain. xtrain will be a Numpy array.\n",
    "* Load the training data and use it to obtain estimates of W and b by minimizing the negative log-likelihood via __gradient descent__. \n",
    "* Another note: you’ll have to play around with the learning rate and the number of steps. Two good ways to check if optimization is finding a good minimizer:\n",
    "    * Try printing the training data loss before and after optimization. \n",
    "    * Use the test data to validate your estimated parameters."
   ]
  },
  {
   "cell_type": "code",
   "execution_count": 55,
   "metadata": {},
   "outputs": [
    {
     "name": "stdout",
     "output_type": "stream",
     "text": [
      "Step:0, loss:1417.36\n",
      "Step:1000, loss:680.23\n",
      "Step:2000, loss:680.23\n",
      "Step:3000, loss:680.23\n",
      "Step:4000, loss:680.23\n",
      "Step:5000, loss:680.23\n",
      "Step:6000, loss:680.23\n",
      "Step:7000, loss:680.23\n",
      "Step:8000, loss:680.23\n",
      "Step:9000, loss:680.23\n",
      "Step:10000, loss:680.23\n",
      "\n",
      "estimate w:\n",
      "[[0.97808246]\n",
      " [1.2326892 ]\n",
      " [1.49821729]\n",
      " [3.01531266]\n",
      " [4.64403196]\n",
      " [7.52841393]]\n",
      "estimate b\n",
      "[-0.95492091]\n"
     ]
    }
   ],
   "source": [
    "# load data\n",
    "X_train = np.load(\"logistic_data/logistic_xtrain.npy\")\n",
    "Y_train = np.load(\"logistic_data/logistic_ytrain.npy\")\n",
    "X_test = np.load(\"logistic_data/logistic_xtest.npy\")\n",
    "Y_test = np.load(\"logistic_data/logistic_ytest.npy\")\n",
    "\n",
    "# set learning rate, create optimizer\n",
    "global_step = tf.Variable(0, trainable=False) \n",
    "optimizer = tf.train.GradientDescentOptimizer(learning_rate = 0.005)\n",
    "train = optimizer.minimize(loss, global_step=global_step)\n",
    "\n",
    "# initialize\n",
    "init = tf.global_variables_initializer()\n",
    "sess = tf.Session()\n",
    "sess.run(init)\n",
    "# gradient descent\n",
    "for step in range(10000+1):\n",
    "    sess.run(train, feed_dict = {x: X_train, ytrue: Y_train})\n",
    "    # print \n",
    "    if step %1000 == 0:\n",
    "        loss_print = sess.run(loss, feed_dict = {x: X_train, ytrue: Y_train})\n",
    "        print(\"Step:{}, loss:{:.2f}\".format(step, loss_print))\n",
    "\n",
    "print(\"\")\n",
    "print(\"estimate w:\")\n",
    "print(sess.run(w))\n",
    "print(\"estimate b\")\n",
    "print(sess.run(b))"
   ]
  },
  {
   "cell_type": "markdown",
   "metadata": {},
   "source": [
    "### 3. Evaluating logistic regression on test data. \n",
    "* Load the test data. \n",
    "* What is the negative log-likelihood of your model on this test data? That is, what is the negative log-likelihood when you use your estimated parameters with the previously unseen test data?"
   ]
  },
  {
   "cell_type": "code",
   "execution_count": 56,
   "metadata": {},
   "outputs": [
    {
     "name": "stdout",
     "output_type": "stream",
     "text": [
      "negative log-likelihood is :163.014 for test data.\n"
     ]
    }
   ],
   "source": [
    "loss_output = sess.run(loss, feed_dict = {x: X_test, ytrue: Y_test})\n",
    "print(\"negative log-likelihood is :{:.3f} for test data.\".format(loss_output))"
   ]
  },
  {
   "cell_type": "markdown",
   "metadata": {},
   "source": [
    "### 4. Evaluating the estimated logistic parameters. The data was, in reality, generated with\n",
    "$$W = (1,1,2,3,5,8), b = −1$$\n",
    "* Write TensorFlow expressions to compute the squared error between your estimated parameters and their true values.\n",
    "* Evaluate the error in recovering W and b separately. \n",
    "* What are the squared errors? \n",
    "* Note: you need only evaluate the error of your final estimates, not at every step."
   ]
  },
  {
   "cell_type": "code",
   "execution_count": 57,
   "metadata": {},
   "outputs": [
    {
     "name": "stdout",
     "output_type": "stream",
     "text": [
      "Estimates of W\n",
      "[[0.97808246]\n",
      " [1.2326892 ]\n",
      " [1.49821729]\n",
      " [3.01531266]\n",
      " [4.64403196]\n",
      " [7.52841393]]\n",
      "Estimates of b\n",
      "[-0.95492091]\n"
     ]
    }
   ],
   "source": [
    "# estimates\n",
    "est_W, est_b = sess.run([w, b])\n",
    "print(\"Estimates of W\")\n",
    "print(est_W)\n",
    "print(\"Estimates of b\")\n",
    "print(est_b)"
   ]
  },
  {
   "cell_type": "code",
   "execution_count": 58,
   "metadata": {},
   "outputs": [
    {
     "name": "stdout",
     "output_type": "stream",
     "text": [
      "Square error for w:[[4.80378446e-04 4.80378446e-04 1.04431545e+00 4.08815053e+00\n",
      "  1.61758207e+01 4.93073259e+01]\n",
      " [5.41442628e-02 5.41442628e-02 5.88765867e-01 3.12338747e+00\n",
      "  1.41926307e+01 4.57964955e+01]\n",
      " [2.48220468e-01 2.48220468e-01 2.51785888e-01 2.25535131e+00\n",
      "  1.22624821e+01 4.22731784e+01]\n",
      " [4.06148513e+00 4.06148513e+00 1.03085980e+00 2.34477624e-04\n",
      "  3.93898383e+00 2.48471079e+01]\n",
      " [1.32789690e+01 1.32789690e+01 6.99090503e+00 2.70284110e+00\n",
      "  1.26713243e-01 1.12625215e+01]\n",
      " [4.26201884e+01 4.26201884e+01 3.05633606e+01 2.05065327e+01\n",
      "  6.39287700e+00 2.22393422e-01]], sum:420.472\n",
      "Square error for b:0.002, sum:0.002\n",
      "Total sum of square error:420.474\n"
     ]
    }
   ],
   "source": [
    "# true\n",
    "wtrue = tf.constant(np.array([1,1,2,3,5,8]), dtype=tf.float64)\n",
    "btrue = tf.constant(-1, dtype=tf.float64)\n",
    "# square error\n",
    "sq_err_w = tf.square(wtrue - est_W)\n",
    "sq_err_b = tf.square(btrue - est_b)\n",
    "# sum of square error\n",
    "sum_sqer_w = tf.reduce_sum(sq_err_w)\n",
    "sum_sqer_b = tf.reduce_sum(sq_err_b)\n",
    "tot_sqer = sum_sqer_w + sum_sqer_b\n",
    "# run w\n",
    "tf_sq_err_w, tf_sum_w = sess.run([sq_err_w, sum_sqer_w])\n",
    "print(\"Square error for w:{}, sum:{:.3f}\".format(tf_sq_err_w, tf_sum_w))\n",
    "# run b\n",
    "tf_sq_err_b, tf_sum_b = sess.run([sq_err_b, sum_sqer_b]) \n",
    "print(\"Square error for b:{:.3f}, sum:{:.3f}\".format(tf_sq_err_b[0], tf_sum_b))\n",
    "# total\n",
    "tf_tot_err = sess.run([tot_sqer]) \n",
    "print(\"Total sum of square error:{:.3f}\".format(tf_tot_err[0]))"
   ]
  },
  {
   "cell_type": "markdown",
   "metadata": {},
   "source": [
    "### 5. Make the variables from the above problems available in a dictionary called `results_logistic`. \n",
    "* The dictionary should have keys `’W’, ’Wsqerr’, ’b’, ’bsqerr’, ’log_lik_test’`,with respective values `sess.run(x)` where x ranges over the corresponding quantities. \n",
    "* For example, if my squared error for `W` is stored in a TF variable called `W_squared_error`, then the key `’Wsqerr’` should have value `sess.run(W_squared_error)`."
   ]
  },
  {
   "cell_type": "code",
   "execution_count": 59,
   "metadata": {},
   "outputs": [
    {
     "data": {
      "text/plain": [
       "{'W': array([[0.97808246],\n",
       "        [1.2326892 ],\n",
       "        [1.49821729],\n",
       "        [3.01531266],\n",
       "        [4.64403196],\n",
       "        [7.52841393]]),\n",
       " 'Wsqerr': array([[4.80378446e-04, 4.80378446e-04, 1.04431545e+00, 4.08815053e+00,\n",
       "         1.61758207e+01, 4.93073259e+01],\n",
       "        [5.41442628e-02, 5.41442628e-02, 5.88765867e-01, 3.12338747e+00,\n",
       "         1.41926307e+01, 4.57964955e+01],\n",
       "        [2.48220468e-01, 2.48220468e-01, 2.51785888e-01, 2.25535131e+00,\n",
       "         1.22624821e+01, 4.22731784e+01],\n",
       "        [4.06148513e+00, 4.06148513e+00, 1.03085980e+00, 2.34477624e-04,\n",
       "         3.93898383e+00, 2.48471079e+01],\n",
       "        [1.32789690e+01, 1.32789690e+01, 6.99090503e+00, 2.70284110e+00,\n",
       "         1.26713243e-01, 1.12625215e+01],\n",
       "        [4.26201884e+01, 4.26201884e+01, 3.05633606e+01, 2.05065327e+01,\n",
       "         6.39287700e+00, 2.22393422e-01]]),\n",
       " 'b': array([-0.95492091]),\n",
       " 'bsqerr': array([0.00203212]),\n",
       " 'log_lik_test': [420.47402767611226]}"
      ]
     },
     "execution_count": 59,
     "metadata": {},
     "output_type": "execute_result"
    }
   ],
   "source": [
    "results_logistic = {'W': est_W, 'Wsqerr': tf_sq_err_w, 'b': est_b, 'bsqerr': tf_sq_err_b, 'log_lik_test': tf_tot_err }\n",
    "results_logistic"
   ]
  },
  {
   "cell_type": "code",
   "execution_count": 60,
   "metadata": {},
   "outputs": [
    {
     "data": {
      "text/plain": [
       "dict"
      ]
     },
     "execution_count": 60,
     "metadata": {},
     "output_type": "execute_result"
    }
   ],
   "source": [
    "type(results_logistic)"
   ]
  },
  {
   "cell_type": "markdown",
   "metadata": {},
   "source": [
    "### 6. Classification of normally distributed data. \n",
    "* The .zip file at http://www-personal.umich.edu/~klevin/teaching/Winter2019/STATS507/HW10_normal.zip contains four Numpy `.npy` files that contain train and test data generated from K = 3 different classes. \n",
    "* Each class $k ∈ {1, 2, 3}$ has an associated mean $μ_{k} ∈ R$ and variance $σ_{k}^{2} ∈ R$, and all observations from a given class are i.i.d. $N(μ_{k},σ_{k}^{2})$. The four files are:\n",
    "    * `normal_xtest.npy` : contains a 500-vector whose entries are the independent variables (predictors) from the test set.\n",
    "    * `normal_xtrain.npy` : contains a 2000-vector whose entries are the independent variables (predictors) from the train set.\n",
    "    * `normal_ytest.npy` : contains a 500-by-3 dimensional matrix whose rows are one-hot encodings of the class labels for the test set.\n",
    "    * `normal_ytrain.npy` : contains a 2000-by-3 dimensional matrix whose rows are one-hot encodings of the class labels for the train set.\n",
    "\n",
    "* The i-th entry of the vector in `normal_xtrain.npy` is the observed random variable from class with label given by the i-th row of the matrix in `normal_ytrain.npy`, and analogously for the two test set files. \n",
    "* Please include these files in your submission so that we can run your code without downloading them again.\n",
    "* Load the training data and use it to obtain estimates of the vector of class means $\\mu = (\\mu_{0}, \\mu_{1}, \\mu_{2})$ and variances $\\sigma^{2} = (\\sigma_{0}^{2}, \\sigma_{1}^{2}, \\sigma_{2}^{2})$ by __minimizing the cross-entropy__ between the estimated normals and the one-hot encodings of the class labels (as we did in our __`softmax regression`__ example in class). \n",
    "* Please name the corresponding variables __`mu`__ and __`sigma2`__. \n",
    "* This time, instead of using gradient descent, use __`Adagrad`__, supplied by TensorFlow as the function __`tf.train.AdagradOptimizer`__. \n",
    "* Adagrad is a stochastic gradient descent algorithm, popular in machine learning. \n",
    "* You can call this just like the gradient descent optimizer we used in class—just supply a learning rate. Documentation for the TF implementation of Adagrad can be found here: https://www.tensorflow.org/api_docs/python/tf/train/AdagradOptimizer. See https://en.wikipedia.org/wiki/Stochastic_gradient_descent for more information about stochastic gradient descent and the Adagrad algorithm.\n",
    "* Note: you’ll no longer be able to use the built-in logit cross-entropy that we used for training our models in lecture. \n",
    "* Your cross-entropy for one observation should now look something like __$−\\Sigma_{􏰀k}y'_{k}\\log p_{k}$__, where $y′$ is the one-hot encoded vector and $p$ is the vector whose k-th entry is the (estimated) probability of the k-th observation given its class. \n",
    "* Another note: do not include any estimation of the mixing coefficients (i.e., the class priors) in your model. \n",
    "* You only need to estimate three means and three variances, because we are building a discriminative model in this problem."
   ]
  },
  {
   "cell_type": "code",
   "execution_count": 61,
   "metadata": {},
   "outputs": [],
   "source": [
    "X_train = np.load(\"normal_data/normal_xtrain.npy\")\n",
    "Y_train = np.load(\"normal_data/normal_ytrain.npy\")\n",
    "X_test = np.load(\"normal_data/normal_xtest.npy\")\n",
    "Y_test = np.load(\"normal_data/normal_ytest.npy\")"
   ]
  },
  {
   "cell_type": "code",
   "execution_count": 62,
   "metadata": {},
   "outputs": [],
   "source": [
    "# data\n",
    "tf.reset_default_graph()\n",
    "x = tf.placeholder(tf.float32, shape=(None, 1))\n",
    "ytrue = tf.placeholder(tf.float32, shape=(None, 3))\n",
    "# parameters\n",
    "mu = tf.Variable(tf.ones([1,3], tf.float32, name = 'mu'))\n",
    "sigma2 = tf.Variable(tf.ones([1,3], tf.float32, name = 'sigma'))"
   ]
  },
  {
   "cell_type": "code",
   "execution_count": 63,
   "metadata": {},
   "outputs": [],
   "source": [
    "# cross entropy\n",
    "log_p = tf.distributions.Normal(loc = mu, scale = sigma2).log_prob(x)\n",
    "cross_entropy = -tf.reduce_sum(ytrue*log_p, 1)\n",
    "# train: tf.train.AdagradOptimizer\n",
    "train_ada = tf.train.AdagradOptimizer(learning_rate = 0.05).minimize(cross_entropy)"
   ]
  },
  {
   "cell_type": "code",
   "execution_count": 64,
   "metadata": {},
   "outputs": [
    {
     "name": "stdout",
     "output_type": "stream",
     "text": [
      "Step:0, est mu:[[0.95 0.95 1.05]], est sigma2:[[1.1024998 1.1024998 1.1024998]]\n",
      "Step:1000, est mu:[[-0.9823299   0.00450897  2.8057144 ]], est sigma2:[[0.5352919 1.008755  1.6795727]]\n",
      "Step:2000, est mu:[[-1.0075966   0.00449135  2.989315  ]], est sigma2:[[0.533382 1.008755 1.517913]]\n",
      "Step:3000, est mu:[[-1.0076314   0.00449135  3.003731  ]], est sigma2:[[0.533382  1.008755  1.5159032]]\n",
      "Step:4000, est mu:[[-1.0076314   0.00449135  3.004786  ]], est sigma2:[[0.533382  1.008755  1.5159012]]\n",
      "Step:5000, est mu:[[-1.0076314   0.00449135  3.0048313 ]], est sigma2:[[0.533382  1.008755  1.5159012]]\n",
      "Step:6000, est mu:[[-1.0076314   0.00449135  3.0048313 ]], est sigma2:[[0.533382  1.008755  1.5159012]]\n",
      "Step:7000, est mu:[[-1.0076314   0.00449135  3.0048313 ]], est sigma2:[[0.533382  1.008755  1.5159012]]\n",
      "Step:8000, est mu:[[-1.0076314   0.00449135  3.0048313 ]], est sigma2:[[0.533382  1.008755  1.5159012]]\n",
      "Step:9000, est mu:[[-1.0076314   0.00449135  3.0048313 ]], est sigma2:[[0.533382  1.008755  1.5159012]]\n",
      "Step:10000, est mu:[[-1.0076314   0.00449135  3.0048313 ]], est sigma2:[[0.533382  1.008755  1.5159012]]\n"
     ]
    }
   ],
   "source": [
    "# initialize\n",
    "init = tf.global_variables_initializer()\n",
    "sess = tf.Session()\n",
    "sess.run(init)\n",
    "# adagrad\n",
    "for step in range(10000+1):\n",
    "    sess.run(train_ada, feed_dict = {x: X_train, ytrue: Y_train})\n",
    "    # print \n",
    "    if step %1000 == 0:\n",
    "        est_mu, est_sig2 = sess.run([mu, tf.square(sigma2)])\n",
    "        print(\"Step:{}, est mu:{}, est sigma2:{}\".format(step, est_mu, est_sig2))"
   ]
  },
  {
   "cell_type": "code",
   "execution_count": 65,
   "metadata": {},
   "outputs": [
    {
     "data": {
      "text/plain": [
       "[array([[-1.0076314 ,  0.00449135,  3.0048313 ]], dtype=float32),\n",
       " array([[0.533382 , 1.008755 , 1.5159012]], dtype=float32)]"
      ]
     },
     "execution_count": 65,
     "metadata": {},
     "output_type": "execute_result"
    }
   ],
   "source": [
    "sess.run([mu, tf.square(sigma2)])"
   ]
  },
  {
   "cell_type": "markdown",
   "metadata": {},
   "source": [
    "### 7. Evaluating loss on test data. \n",
    "* Load the test data. \n",
    "* What is the cross-entropy of your model on this test data? That is, what is the cross-entropy when you use your estimated parameters with the previously unseen test data?"
   ]
  },
  {
   "cell_type": "code",
   "execution_count": 66,
   "metadata": {},
   "outputs": [
    {
     "name": "stdout",
     "output_type": "stream",
     "text": [
      "The cross-entropy is: 1.373 for test data.\n"
     ]
    }
   ],
   "source": [
    "output = sess.run(cross_entropy, feed_dict = {x: X_test, ytrue: Y_test})\n",
    "print(\"The cross-entropy is: {:.3f} for test data.\".format(np.mean(output)))"
   ]
  },
  {
   "cell_type": "markdown",
   "metadata": {},
   "source": [
    "### 8. Evaluating parameter estimation on test data. \n",
    "* The true parameter values for the three classes were  \n",
    "$\\mu_{0} =−1$, $\\mu_{1} = 0$, $\\mu_{2} = 3$,  \n",
    "$\\sigma_{0}^{2} =0.5$, $\\sigma_{1}^{2} = 1$, $\\sigma_{2}^{2} = 1.5$.\n",
    "* Write a TensorFlow expression to compute the total squared error (i.e., summed over the six parameters) between your estimates and their true values. \n",
    "* What is the squared error? Note: you need only evaluate the error of your final estimates, not at every step.\n"
   ]
  },
  {
   "cell_type": "code",
   "execution_count": 67,
   "metadata": {},
   "outputs": [],
   "source": [
    "# estimate\n",
    "est_mu, est_sig = sess.run([mu, tf.square(sigma2)])\n",
    "# true\n",
    "mutrue = tf.constant(np.array([-1, 0, 3]), dtype=tf.float32)\n",
    "sigtrue = tf.constant(np.array([0.5, 1, 1.5]), dtype=tf.float32)"
   ]
  },
  {
   "cell_type": "code",
   "execution_count": 68,
   "metadata": {},
   "outputs": [
    {
     "name": "stdout",
     "output_type": "stream",
     "text": [
      "Total sum of square error: 0.00155\n"
     ]
    }
   ],
   "source": [
    "# square error\n",
    "sq_err_mu = tf.square(mutrue - est_mu)\n",
    "sq_err_sig = tf.square(sigtrue - est_sig)\n",
    "# sum of square error\n",
    "sum_sqer_mu = tf.reduce_sum(sq_err_mu)\n",
    "sum_sqer_sig = tf.reduce_sum(sq_err_sig)\n",
    "tot_sqer = sum_sqer_mu + sum_sqer_sig\n",
    "# run mu\n",
    "tf_sq_err_mu, tf_sum_mu = sess.run([sq_err_mu, sum_sqer_mu])\n",
    "# run sigma\n",
    "tf_sq_err_sig, tf_sum_b = sess.run([sq_err_sig, sum_sqer_sig]) \n",
    "# total\n",
    "tf_tot_err = sess.run([tot_sqer]) \n",
    "print(\"Total sum of square error: {:.5f}\".format(tf_tot_err[0]))"
   ]
  },
  {
   "cell_type": "markdown",
   "metadata": {},
   "source": [
    "### 9. Evaluating classification error on test data. \n",
    "* Write and evaluate a TensorFlow expression that computes the classification error of your estimated model averaged over the test data."
   ]
  },
  {
   "cell_type": "code",
   "execution_count": 69,
   "metadata": {},
   "outputs": [
    {
     "name": "stdout",
     "output_type": "stream",
     "text": [
      "0.724\n",
      "INFO:tensorflow:Assets added to graph.\n",
      "INFO:tensorflow:No assets to write.\n",
      "INFO:tensorflow:SavedModel written to: normal_trained/saved_model.pb\n"
     ]
    }
   ],
   "source": [
    "# prediction base on test data\n",
    "pre = tf.distributions.Normal(loc = est_mu, scale = est_sig).log_prob(x)\n",
    "prediction = tf.argmax(pre,1)\n",
    "correct = tf.equal(prediction, tf.argmax(ytrue,1))\n",
    "accuracy = tf.reduce_mean(tf.cast(correct, tf.float32))\n",
    "accuracy_out = sess.run(accuracy, feed_dict = {x: X_test, ytrue: Y_test})\n",
    "print(accuracy_out) \n",
    "\n",
    "# save model (for Problem 4)\n",
    "tf.saved_model.simple_save(\n",
    "    session = sess,\n",
    "    export_dir = \"normal_trained\",\n",
    "    inputs = {'x':x}, \n",
    "    outputs = {'prediction':prediction}\n",
    ")"
   ]
  },
  {
   "cell_type": "markdown",
   "metadata": {},
   "source": [
    "### 10. Again, for ease of grading, define a dictionary called `results_class`\n",
    "* keys `’mu’, ’sigma2’, ’crossent_test’, ’class_error’` with values corresponding to the evaluation (again using sess.run) of your estimate of μ, σ2, the cross-entropy on the test set, and the classification error from the previous problem."
   ]
  },
  {
   "cell_type": "code",
   "execution_count": 70,
   "metadata": {},
   "outputs": [
    {
     "data": {
      "text/plain": [
       "{'mu': array([[-1.0076314 ,  0.00449135,  3.0048313 ]], dtype=float32),\n",
       " 'sigma2': array([[0.533382 , 1.008755 , 1.5159012]], dtype=float32),\n",
       " 'crossent_test': 1.3726938,\n",
       " 'class_error': 0.724}"
      ]
     },
     "execution_count": 70,
     "metadata": {},
     "output_type": "execute_result"
    }
   ],
   "source": [
    "results_class = {'mu': est_mu, 'sigma2': est_sig, 'crossent_test': np.mean(output), 'class_error': accuracy_out}\n",
    "results_class"
   ]
  },
  {
   "cell_type": "markdown",
   "metadata": {},
   "source": [
    "## Problem 3 Building a Complicated Model "
   ]
  },
  {
   "cell_type": "markdown",
   "metadata": {},
   "source": [
    "* The TensorFlow documentation includes tutorials on building a number of more complicated neural models in TensorFlow: https://www.tensorflow.org/tutorials/. In the left side panel, choose any one tutorial from under one of the headings “ML at production scale”, “Generative models”, “Images” or “Sequences” and follow it. Some of the tutorials include instructions along the lines of “We didn’t discuss this trick, try adding it!”. __You do not need to do any of these additional steps (though you will certainly learn something if you do!).__ \n",
    "* Warning: some of the tutorials require large amounts of training data. If this is the case, please do not include the training data in your submission! Instead, include a line of code to download the data from wherever it is stored. Also, some of the tutorials require especially long training time, (e.g., the neural models) so budget your time accordingly!\n",
    "* Your submission for this problem should be a separate jupyter notebook called __`tutorial.ipynb`__ (no need to include your uniqname), which includes code to load the training and test data, build and train a model, and evaluate that model on test data. __That is, the code in `tutorial.ipynb` should perform all the training and testing steps performed in the tutorial, but without having to be run from the command line.__ Depending on which model you choose, training may take a long time if you use the preset number of training steps, so be sure to include a variable called __`nsteps`__ that controls the number of training steps, and set it to be something moderately small for your submission.\n",
    "* Note: it will not be enough to simply copy the tutorial’s python code into your jupyter notebook, since the demo code supplied in the tutorials is meant to be run from the command line.\n",
    "* Another note: If it was not clear, you are, for this problem and this problem only, __permitted to copy-paste code from the TensorFlow tutorials as much as you like without penalty__.\n",
    "* One more note: Please make sure that in both __`tutorial.ipynb`__ and your main submission notebook __`uniqname.hw10.ipynb`__ you do not set any training times to be excessively long. You are free to set the number of training steps as you like for running on your own machine, but please set these parameters to something more reasonable in your submission so that we do not need to wait too long when running your notebook. \n",
    "* Aim to set the number of training steps so that we can run each of your submitted notebooks less than a minute."
   ]
  },
  {
   "cell_type": "code",
   "execution_count": null,
   "metadata": {},
   "outputs": [],
   "source": []
  },
  {
   "cell_type": "markdown",
   "metadata": {},
   "source": [
    "## Problem 4 Running Models on Google Cloud Platform (9 points)\n",
    "In this problem, you’ll get a bit of experience running TensorFlow jobs on Google Cloud Platform (GCP), Google’s cloud computing service. Google has provided us with a grant, which will provide each of you with free compute time on GCP.  \n",
    "\n",
    "__Important__: this problem is very hard. It involves a sequence of fairly complicated operations in GCP. As such, I \n",
    "do not expect every student to complete it. Don’t worry about that. Unless you’ve done a lot of programming in the past, this problem is likely your first foray into learning a new tool largely from scratch instead of having my lectures to guide you. The ability to do this is a crucial one for any data scientist, so consider this a learning opportunity (and a sort of miniature final exam). Start early, read the documentation carefully, and come to office hours if you’re having trouble.\n",
    "Good luck, and have fun!"
   ]
  },
  {
   "cell_type": "markdown",
   "metadata": {},
   "source": [
    "The first thing you should do is claim your share of the grant money by visiting this link: https://google.secure.force.com/GCPEDU?cid=VYZbhLIwytS0UVxuWxYyRYgNVxPMOf37oBx0hRmx7 \n",
    "You will need to supply your name and your UMich email. Please use the email address associated to your unique name (i.e., uniqname@umich.edu), so that we can easily determine which account belongs to which student. Once you have submitted this form, you will receive a confirmation email through which you can claim your compute credits.\n",
    "These credits are valid on GCP until they expire in January 2020. Any credits left over after completing this homework are yours to use as you wish. Make sure that you claim your credits while signed in under your University of Michigan email, rather than a personal gmail account so that your project is correctly associated with your UMich email. If you accidentally claim the credits under a different address, add your unique name email\n",
    "as an owner.  \n",
    "\n",
    "Once you have claimed your credits, you should create a project, which will serve as a repository for your work on this problem. You should name your project `uniqname-stats507w19`, where uniqname is your unique name in all lower-case letters. Your project’s billing should be automatically linked to your credits, but you can verify this fact in the billing section dashboard in the GCP browser console. Please add both me (UMID `klevin`) and your\n",
    "GSI Roger Fan (UMID `rogerfan`) as owners. You can do this in the IAM tab of the IAM\n",
    "& admin dashboard by clicking “Add” near the top of the page, and listing our UMich emails and specifying our Roles as Project → Owner.  \n",
    " \n",
    "__Note__: this problem is comparatively complicated, and involves a lot of moving parts. At the end of this problem (several pages below), I have included a list of all the files that should be included in your submission for this problem, as well as a list of what should be on your GCP project upon submission.  \n",
    "\n",
    "__Important__: after the deadline (May 2nd at 10:00am) you should not edit your GCP project in any way until you receive a grade for the assignment in canvas. If your project indicates that any files or running processes have been altered after the deadline by a user other than klevin or rogerfan, we will assume this to be an instance of editing your assignment after the deadline, and you will receive a penalty.\n"
   ]
  },
  {
   "cell_type": "markdown",
   "metadata": {},
   "source": [
    "### 1. Follow the tutorial\n",
    "* https://cloud.google.com/ml-engine/docs/distributed-tensorflow-mnist-cloud-datalab: which will walk you through the process of training a CNN similar to the one we saw in class, but this time using resources on GCP instead of your own machine. \n",
    "* This tutorial will also have you set up a DataLab notebook, which is Google’s version of a Jupyter notebook, in which you can interactively draw your own digits and pass them to your neural net for classification. \n",
    "* __Important__: the tutorial will tell you to tear your nodes and storage down at the end. Do not do that. Leave everything running so that we can verify that you set things up correctly. It should only cost a few dollars to leave the datalab server and storage buckets running, but if you wish to conserve your credits, you can tear everything down and go through the tutorial again on the evening of May 1st or the (early!) morning of May 2nd."
   ]
  },
  {
   "cell_type": "raw",
   "metadata": {},
   "source": [
    "gcloud config set project mandyho-stats507w19\n",
    "gcloud ml-engine models list\n",
    "git clone https://github.com/GoogleCloudPlatform/cloudml-dist-mnist-example\n",
    "cd cloudml-dist-mnist-example\n",
    "\n",
    "PROJECT_ID=$(gcloud config list project --format \"value(core.project)\")\n",
    "BUCKET=\"${PROJECT_ID}-ml\"\n",
    "gsutil mb -c regional -l us-central1 gs://${BUCKET}\n",
    "\n",
    "./scripts/create_records.py\n",
    "gsutil cp /tmp/data/train.tfrecords gs://${BUCKET}/data/\n",
    "gsutil cp /tmp/data/test.tfrecords gs://${BUCKET}/data/\n",
    "\n",
    "JOB_NAME=\"job_$(date +%Y%m%d_%H%M%S)\"\n",
    "gcloud ml-engine jobs submit training ${JOB_NAME} \\\n",
    "    --package-path trainer \\\n",
    "    --module-name trainer.task \\\n",
    "    --staging-bucket gs://${BUCKET} \\\n",
    "    --job-dir gs://${BUCKET}/${JOB_NAME} \\\n",
    "    --runtime-version 1.2 \\\n",
    "    --region us-central1 \\\n",
    "    --config config/config.yaml \\\n",
    "    -- \\\n",
    "    --data_dir gs://${BUCKET}/data \\\n",
    "    --output_dir gs://${BUCKET}/${JOB_NAME} \\\n",
    "    --train_steps 10000\n",
    "\n",
    "# find the storage path\n",
    "gsutil ls gs://${BUCKET}/${JOB_NAME}/export/Servo | tail -1\n",
    "# gs://mandyho-stats507w19-ml/job_20190429_202804/export/Servo/1556584885/\n",
    "\n",
    "# tensorboard\n",
    "tensorboard --port 8080 --logdir gs://${BUCKET}/${JOB_NAME}\n",
    "\n",
    "# deploy model\n",
    "MODEL_NAME=MNIST\n",
    "gcloud ml-engine models create --regions us-central1 ${MODEL_NAME}\n",
    "VERSION_NAME=v1\n",
    "ORIGIN=$(gsutil ls gs://${BUCKET}/${JOB_NAME}/export/Servo | tail -1)\n",
    "gcloud ml-engine versions create \\\n",
    "    --origin ${ORIGIN} \\\n",
    "    --model ${MODEL_NAME} \\\n",
    "    ${VERSION_NAME}\n",
    "gcloud ml-engine versions set-default --model ${MODEL_NAME} ${VERSION_NAME}\n",
    "\n",
    "#gs://mandyho-stats507w19-ml/job_20190427_160716/export/Servo/1556396413/\n",
    "\n",
    "# test prediction\n",
    "./scripts/make_request.py\n",
    "gcloud ml-engine predict --model ${MODEL_NAME} --json-instances request.json\n",
    "\n",
    "# output\n",
    "CLASSES  PROBABILITIES\n",
    "7        [6.415881220373901e-22, 1.8547389125287789e-16, 7.539549658146537e-19, 1.6958213702917852e-16, 4.0837542088180065e-15, 4.67855629206677e-19, 7.184722271547251e-25, 1.0, 7.361834556430465e-19, 7.478865549320583e-15]\n",
    "2        [2.375824449605662e-16, 6.984753179153525e-22, 1.0, 4.0184534324228386e-20, 1.876582811992286e-21, 1.974069526312167e-27, 5.1773717613171733e-17, 3.765134297369232e-21, 9.389372369529166e-22, 2.5759839496877805e-23]\n",
    "1        [4.3177303315962987e-16, 1.0, 1.3389720105241865e-12, 5.1383744967744833e-17, 3.11882117354223e-11, 3.822934590419491e-12, 2.978447349866187e-11, 9.601043918228136e-14, 6.520356303496566e-12, 2.915797079694818e-14]\n",
    "0        [1.0, 9.585554226721697e-16, 2.7739221103483327e-14, 1.1095085353934886e-13, 3.7803416602160366e-16, 1.5578929205700698e-12, 1.3910186370813538e-11, 1.670540962506184e-11, 2.75523224027574e-12, 7.510519428599594e-10]\n",
    "4        [3.6949842972366486e-15, 2.302658064223806e-12, 1.3889506732256418e-11, 4.615230113770401e-15, 1.0, 1.789030214119705e-13, 1.928366854422165e-15, 2.6840561023755427e-12, 4.656139189485042e-12, 1.7094735627054547e-09]\n",
    "1        [7.79888910223248e-16, 1.0, 8.818605568006177e-13, 3.1353989951246895e-17, 1.0816849152495145e-11, 2.8015928132626468e-14, 2.555882209435284e-13, 3.8391416781746734e-12, 3.743882807938359e-12, 8.4682017257795e-15]\n",
    "4        [1.3937152906016162e-17, 6.946346831071537e-10, 6.410671960725006e-14, 3.2827233363789565e-18, 1.0, 1.3762156561916705e-12, 2.7946280001505536e-14, 7.891558066741577e-12, 1.1278717515494918e-08, 4.633890385123685e-13]\n",
    "9        [1.2324144300888011e-18, 1.0948438995336132e-20, 1.9315556370070458e-14, 1.647859823719405e-15, 2.1508569393851457e-13, 2.4777526887091e-16, 1.702674222385411e-22, 4.679150290464644e-17, 4.655768826022921e-11, 1.0]\n",
    "5        [1.3434732493156076e-10, 1.0769742302824126e-12, 1.0050995409224828e-12, 3.435593389639058e-12, 3.946678983623997e-09, 0.9997788071632385, 0.00021609847317449749, 4.642230474810258e-14, 5.065909135737456e-06, 2.672692345218053e-10]\n",
    "9        [7.963495554833876e-21, 1.787579489938333e-18, 9.687881431578181e-19, 1.2318663790924123e-15, 2.4360460315620003e-09, 2.7724133752626834e-15, 7.789670117477299e-24, 3.992429997712321e-10, 2.5287663131014215e-13, 1.0]\n",
    "\n",
    "# Executing predictions with Cloud Datalab\n",
    "datalab create mnist-datalab --zone us-central1-a\n",
    "# if datalab exist \n",
    "datalab connect mnist-datalab\n"
   ]
  },
  {
   "cell_type": "markdown",
   "metadata": {},
   "source": [
    "### 2. Let us return to the classifier that you trained above on the normally-distributed data. \n",
    "* In this and the next several subproblems, we will take an adaptation of that model and upload it to GCP where it will serve as a prediction node similar to the one you built in the tutorial above. Train the same classifier on the same training data, but this time, save the resulting trained model in a directory called __`normal_trained`__. \n",
    "* You’ll want to use the __`tf.saved_model.simple_save_function`__.   \n",
    "    Refer to the GCP STATS507: Data Analysis in Python 7 documentation at https://cloud.google.com/ml-engine/docs/deploying-models, and the documentation on the `tf.saved_model.simple_save function`, here: https://www.tensorflow.org/programmers_guide/saved_model#save_and_restore_models   \n",
    "* __Please include a copy of this model directory in your submission.__   \n",
    "* __Hint__: a stumbling block in this problem is figuring out what to supply as the inputs and outputs arguments to the simple_save function. Your arguments should look something like `inputs = {’x’:x}, outputs ={’prediction’:prediction}`."
   ]
  },
  {
   "cell_type": "code",
   "execution_count": 71,
   "metadata": {},
   "outputs": [],
   "source": [
    "# saved model function\n",
    "# x = tf.placeholder(tf.float32, shape=(None, 1), name = 'output')\n",
    "# prediction = tf.identity(ytrue, name = 'output')\n",
    "# tf.saved_model.simple_save(\n",
    "#     session = sess,\n",
    "#     export_dir = \"~/normal_trained\",\n",
    "#     inputs = {'x':x}, \n",
    "#     outputs = {'prediction':prediction}\n",
    "# )"
   ]
  },
  {
   "cell_type": "markdown",
   "metadata": {},
   "source": [
    "### 3. Let’s upload that model to GCP. \n",
    "* First, we need somewhere to put your model. You already set up a bucket in the tutorial, but let’s build a separate one. \n",
    "* Create a new bucket called __`mandyho_stats507w19-hw10-normal`__. You should be able to do this by making minor changes to the commands you ran in the tutorial, or by following the instructions at https://cloud.google.com/solutions/running-distributed-tensorflow-on-compute-engine#creating_a_cloud_storage_bucket.   \n",
    "* Now, we need to upload your saved model to this bucket. There are several ways to do this, but the easiest is to follow the instructions at https://cloud.google.com/storage/docs/uploading-objects and upload your model through the GUI.   \n",
    "* __Optional challenge (worth no extra points, just bragging rights)__: Instead of using the GUI, download and install the Google Cloud SDK, available at https://cloud.google.com/sdk/ and use the gsutil command line tool to upload your model to a storage bucket."
   ]
  },
  {
   "cell_type": "raw",
   "metadata": {},
   "source": [
    "## Create bucket \"stats507w19-hw10-normal\"\n",
    "PROJECT_ID=$(gcloud config list project --format \"value(core.project)\")   \n",
    "BUCKET=\"mandyho_stats507w19-hw10-normal\"  \n",
    "gsutil mb -c regional -l us-central1 gs://${BUCKET}  \n",
    "\n",
    "## Upload a SavedModel directory\n",
    "gsutil cp -r normal_trained gs://mandyho_stats507w19-hw10-normal/  \n"
   ]
  },
  {
   "cell_type": "markdown",
   "metadata": {},
   "source": [
    "### 4. Now we need to create a version of your model. \n",
    "* Versions are how the GCP machine learning tools organize different instances of the same model (e.g., the same model trained on two different data sets). To do this, follow the instructions located at https://cloud.google.com/ml-engine/docs/deploying-models#creating_a_model_version, which will ask you to  \n",
    "    * Upload a SavedModel directory (which you just did)  \n",
    "    * Create a Cloud ML Engine model resource  \n",
    "    * Create a Cloud ML Engine version resource (this specifies where your model is stored, among other information) \n",
    "    * Enable the appropriate permissions on your account.  \n",
    "\n",
    "* Please name your model __`stats507w19_hw10_normal`__ (note the underscores here as opposed to the hyphens in the bucket name; see the documentation for the gcloud ml-engine versions command for how to delete versions, if need be). \n",
    "* __Important__: there are a number of pitfalls that you may encounter here, which I want to warn you about: A good way to check that your model resource and version are set up correctly is to run the command __`gcloud ml-engine versions describe \"your_version_name\" --model \"your_model_name\"`__. \n",
    "* The resulting output should include a line reading state: READY. You may notice that the Python version for the model appears as, say, python Version: ’2.7’, even though you used, say, Python 3.6. This should not be a problem, but you should make sure that the runtimeVersion is set correctly. __If the line runtimeVersion: ’1.0’ is appearing when you describe your version, you are likely headed for a bug__. You can prevent this bug by adding the flag --`runtime-version 1.6` to your gcloud ml-engine versions create command, and making sure that you are running TensorFlow version 1.6 on your local machine (i.e., the machine where you’re running Jupyter). Running version 1.7 locally while running 1.6 on GCP also seems to work fine.\n"
   ]
  },
  {
   "cell_type": "raw",
   "metadata": {},
   "source": [
    "## Create a Cloud ML Engine model resource\n",
    "gcloud ai-platform models create \"stats507w19_hw10_normal\"  \n",
    "MODEL_DIR=\"gs://mandyho_stats507w19-hw10-normal/normal_trained\"  \n",
    "VERSION_NAME=\"beta\"   \n",
    "MODEL_NAME=\"stats507w19_hw10_normal\"   \n",
    "FRAMEWORK=\"TENSORFLOW\"   \n",
    "\n",
    "## Create a Cloud ML Engine version resource \n",
    "gcloud ai-platform versions create $VERSION_NAME \\  \n",
    "  --model $MODEL_NAME \\  \n",
    "  --origin $MODEL_DIR \\  \n",
    "  --runtime-version=1.13 \\  \n",
    "  --framework $FRAMEWORK \\  \n",
    "  --python-version=3.5`  \n",
    "\n",
    "gcloud ml-engine versions describe \"beta\" --model \"stats507w19_hw10_normal\"  \n",
    "\n",
    "## Output:  \n",
    "createTime: '2019-04-29T23:39:15Z'   \n",
    "deploymentUri: gs://mandyho_stats507w19-hw10-normal/normal_trained   \n",
    "etag: jaGhBkmbCWo=  \n",
    "framework: TENSORFLOW  \n",
    "machineType: mls1-c1-m2  \n",
    "name: projects/mandyho-stats507w19/models/stats507w19_hw10_normal/versions/train  \n",
    "pythonVersion: '3.5'  \n",
    "runtimeVersion: '1.13'  \n",
    "state: READY  "
   ]
  },
  {
   "cell_type": "raw",
   "metadata": {},
   "source": [
    "## delete models and versions\n",
    "gcloud ai-platform versions delete beta --model=$MODEL_NAME\n",
    "gcloud ai-platform models delete $MODEL_NAME"
   ]
  },
  {
   "cell_type": "markdown",
   "metadata": {},
   "source": [
    "### 5. Create a `.json` file corresponding to a single prediction instance on the input observation x = 4. \n",
    "* Name this `.json` file `instance.hw10.json`, and please include a copy of it in your submission.   \n",
    "* __Hint__: you will likely find it easiest to use `nano/vim/emacs` to edit edit the `.json` file from the tutorial (GCP Cloud Shell has versions of all three of these editors). Doing this will allow you to edit a copy of the `.json` file directly in the GCP shell instead of going through the trouble of repeatedly downloading and uploading files. Being proficient with a shell-based text editor is also, generally speaking, a good skill for a data scientist to have."
   ]
  },
  {
   "cell_type": "raw",
   "metadata": {},
   "source": [
    "## Create json file\n",
    "INPUT_DATA_FILE=\"instance.hw10.json\"   \n",
    "vim instance.hw10.json"
   ]
  },
  {
   "cell_type": "markdown",
   "metadata": {},
   "source": [
    "### 6. Okay, it’s time to make a prediction.     \n",
    "* Follow the instructions at https://cloud.google.com/ml-engine/docs/online-predict#requesting_predictions to submit the observation in your `.json` file to your running model. Your model will make a prediction, and print the output of the model to the screen. Please include a copy-paste of the command you ran to request this prediction as well as the resulting output.   \n",
    "* __Which cluster does your model think x = 4 came from?__  \n",
    "* __Hint__: if you are getting errors about dimensions being wrong, make sure that your instance has the correct dimension expected by your model.  \n",
    "* __Second hint__: if you are encountering an error along the lines of Error during model execution: `AbortionError(code=StatusCode.INVALID_ARGUMENT, details=\\\"NodeDef mentions attr ’output_type’`, this is an indication that there is a mismatch between the version of TensorFlow that you used to create your model and the one that you are running on GCP. See the discussion of `gcloud ml-engine versions` create above.  "
   ]
  },
  {
   "cell_type": "raw",
   "metadata": {},
   "source": [
    "## Request prediction\n",
    "gcloud ai-platform predict --model $MODEL_NAME  \\\n",
    "                   --version $VERSION_NAME \\\n",
    "                   --json-instances $INPUT_DATA_FILE\n",
    "\n",
    "## Output:\n",
    "PREDICTION   \n",
    "2"
   ]
  },
  {
   "cell_type": "markdown",
   "metadata": {},
   "source": [
    "#### Which cluster does your model think x = 4 came from? Answer: from cluster 2"
   ]
  },
  {
   "cell_type": "markdown",
   "metadata": {},
   "source": [
    "### That’s all of it! Great work! Here is a list of all files that should be included for this problem in your submission, as well as a list of what processes or resources should be left running in your GCP project:\n",
    "\n",
    "* You should leave the __datalab notebook and its supporting resources__ (i.e., the prediction node and storage bucket) from the GCP ML tutorial running in your GCP project.\n",
    "* Include in your submission a copy of the __saved model directory constructed from your classifier__. You should also have a copy of this directory in a storage bucket on GCP.\n",
    "* Leave a storage bucket running on GCP containing your uploaded model directory. This storage bucket should contain a model with a __single version__.\n",
    "* Include in your submission a __`.json`__ file representing a __single observation__. You need not include a copy of this file in a storage bucket on GCP; it will be stored by default in your GCP home directory if you created it in a text editor in the GCP shell.\n",
    "* Include in your jupyter notebook a copy-paste of the __command__ you ran to request your model’s prediction on the `.json` file, and please include the __output__ that was printed to the screen in response to that prediction request.     \n",
    "\n",
    "__Note__: Please make sure that the cell(s) that you copy-paste into is/are set to be Raw NBconvert cell(s), so that your commands display as code but are not run as code by Jupyter."
   ]
  },
  {
   "cell_type": "markdown",
   "metadata": {},
   "source": [
    "### Submission file:\n",
    "* instance.hw10.json\n",
    "* mandyho_hw10.ipynb\n",
    "* tutorial.ipynb\n",
    "* logistic_data\n",
    "* normal_data\n",
    "* normal_trained (on both local and GCP)"
   ]
  }
 ],
 "metadata": {
  "kernelspec": {
   "display_name": "Python 3",
   "language": "python",
   "name": "python3"
  },
  "language_info": {
   "codemirror_mode": {
    "name": "ipython",
    "version": 3
   },
   "file_extension": ".py",
   "mimetype": "text/x-python",
   "name": "python",
   "nbconvert_exporter": "python",
   "pygments_lexer": "ipython3",
   "version": "3.7.1"
  }
 },
 "nbformat": 4,
 "nbformat_minor": 2
}
