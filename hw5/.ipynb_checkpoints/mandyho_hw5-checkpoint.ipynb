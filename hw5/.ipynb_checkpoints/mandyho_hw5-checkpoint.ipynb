{
 "cells": [
  {
   "cell_type": "markdown",
   "metadata": {},
   "source": [
    "## STATS 507 HW5 numpy and matplotlib\n",
    "### Meng-Ni Ho\n",
    "#### mandyho@umich.edu\n",
    "\n",
    "<span style=\"color:red\">8.5/10  \n",
    "1.1: -0.5 handles n>2 incorrectly  \n",
    "1.2-3.1: -0.5 returns error instead of raising  \n",
    "2.3 -0.5 too many points not be contained by contour  </span>\n"
   ]
  },
  {
   "cell_type": "code",
   "execution_count": 1,
   "metadata": {},
   "outputs": [],
   "source": [
    "import numpy as np\n",
    "import matplotlib.pyplot as plt\n",
    "import scipy.stats\n",
    "%matplotlib inline"
   ]
  },
  {
   "cell_type": "markdown",
   "metadata": {},
   "source": [
    "### Problem 1 Warmup: Around the Semicircular Law\n",
    "The (comparatively) young field of random matrix theory (RMT) concerns the behavior of certain matrices with independent random entries. A landmark result in RMT concerns the behavior of the eigenvalues of a random symmetric matrix with normal entries. Under the proper scaling, the joint distribution of the eigenvalues of such a matrix follows the Wigner semicircular distribution, which has density\n",
    "$$ f(x) = \\Bigg\\{{\\frac{\\sqrt{4-x^{2}}}{2\\pi}  \\quad{if -2≤x≤2} \\\\\\quad0\\quad otherwise} $$\n",
    "That is, a symmetric matrix with random normal entries will have eigenvalues whose histogram looks more and more like a semicircle of radius 2 as $n$ increases to ∞. In particular, define a matrix-valued random variable $Z ∈ R_{n×n}$ by generating $Z_{i,j}$ i.i.d. normal with mean 0 and variance $1/n$ for all $1≤i≤j≤n$, and set $Z_{j,i}$ = $Z_{i,j}$ for $1≤j≤i≤n$. Then the matrix $Z∈R_{n×n}$ is called a Wigner matrix."
   ]
  },
  {
   "cell_type": "markdown",
   "metadata": {},
   "source": [
    "1. Define a function <span style=\"font-family:Courier; font-size:1em;\">wigner_density</span> that takes a single number (integer or float) as its input and returns a float as its output, given by the value of the semicircular density evaluated at the input. \n",
    "\n",
    "    That is, for a number x, <span style=\"font-family:Courier; font-size:1em;\">wigner_density(x)</span> should return <span style=\"font-family:Courier; font-size:1em;\">f(x)</span>, where f is defined above in Equation (1). \n",
    "    \n",
    "    You do not need to perform any error checking in this function, but note that your function should operate equally well on Python ints/floats and on numpy ints/floats, and you should be able to accomplish this without checking the type of the input. Use the numpy.sqrt function for the square root, not the Python math.sqrt function."
   ]
  },
  {
   "cell_type": "code",
   "execution_count": 2,
   "metadata": {},
   "outputs": [],
   "source": [
    "def wigner_density(x):\n",
    "    if x >= 2 or x <= 2:\n",
    "        return np.sqrt(4-x**2)/(2*np.pi)\n",
    "    else:\n",
    "        return 0"
   ]
  },
  {
   "cell_type": "code",
   "execution_count": 3,
   "metadata": {},
   "outputs": [
    {
     "data": {
      "text/plain": [
       "0.27566444771089604"
      ]
     },
     "execution_count": 3,
     "metadata": {},
     "output_type": "execute_result"
    }
   ],
   "source": [
    "wigner_density(1)"
   ]
  },
  {
   "cell_type": "markdown",
   "metadata": {},
   "source": [
    "2. Define a function <span style=\"font-family:Courier; font-size:1em;\">generate_wigner</span> that takes a single positive integer n as its argument and returns a random n-by-n Wigner matrix. \n",
    "\n",
    "    Your function should raise an appropriate error in the event that the input is not an integer or if it is not positive. The output of your function may be either a numpy matrix or simply a numpy array. I would slightly recommend the former, for ease of use in the next subproblem. You can cast a 2-dimensional numpy array a to a matrix by writing <span style=\"font-family:Courier; font-size:1em;\">np.matrix(a)</span>. \n",
    "    \n",
    "    Hint: depending on the solution you choose, you may find the <span style=\"font-family:Courier; font-size:1em;\">numpy.triu</span> and <span style=\"font-family:Courier; font-size:1em;\">numpy.tril</span> functions to be useful. A different solution makes use of the <span style=\"font-family:Courier; font-size:1em;\">scipy.spatial.distance.squareform</span> function.\n"
   ]
  },
  {
   "cell_type": "code",
   "execution_count": 29,
   "metadata": {},
   "outputs": [],
   "source": [
    "def generate_wigner(n):\n",
    "    if type(n) != int:\n",
    "        raise TypeError\n",
    "    if n <= 0:\n",
    "        raise ValueError\n",
    "    else:\n",
    "        x = np.random.normal(0, np.sqrt(1/n), (n,n))\n",
    "        lower = np.tril(x, k = -1)\n",
    "        diag = np.diag(np.diagonal(x))\n",
    "        upper = np.transpose(lower)\n",
    "        wigner = lower + diag + upper\n",
    "        wigner = np.matrix(wigner)\n",
    "        return wigner"
   ]
  },
  {
   "cell_type": "code",
   "execution_count": 31,
   "metadata": {},
   "outputs": [],
   "source": [
    "x = generate_wigner(500)"
   ]
  },
  {
   "cell_type": "markdown",
   "metadata": {},
   "source": [
    "3. The RMT result referenced above states that the joint distribution of the eigenvalues of a random Wigner matrix converges to the semicircular law. Write a function <span style=\"font-family:Courier; font-size:1em;\">get_spectrum</span> that takes a numpy matrix or 2-dimensional numpy array and returns a numpy array of its eigenvalues in non-decreasing order. You do not need to perform any error checking for this function. \n",
    "\n",
    "    You fill find the following documentation useful: https://docs.scipy.org/doc/numpy/reference/generated/numpy.linalg.eigh.html#numpy.linalg.eigh.\n"
   ]
  },
  {
   "cell_type": "code",
   "execution_count": 32,
   "metadata": {},
   "outputs": [],
   "source": [
    "def get_spectrum(m):\n",
    "    eigenvalue, eigenvector = np.linalg.eigh(m)\n",
    "    return eigenvalue"
   ]
  },
  {
   "cell_type": "markdown",
   "metadata": {},
   "source": [
    "4. Create a plot with four subplots, arranged vertically, each showing a (normalized) histogram, in blue, of the eigenvalues of a random n-by-n Wigner matrix for n = 100, 200, 500 and 1000. \n",
    "    \n",
    "    In each subplot, overlay a red curve indicating the density of the semicircular law, as defined in (1). \n",
    "    \n",
    "    Hint: depending on how you implemented wigner_density above, you may find the <span style=\"font-family:Courier; font-size:1em;\">numpy.vectorize</span> function helpful.\n",
    "\n",
    "    How big does n have to be before the semicircular law appears to be a good fit? Of course, in practice, we would answer this question more rigorously with, for example, a Kolmogorov-Smirnov test, which you can find in the <span style=\"font-family:Courier; font-size:1em;\">scipy.stats</span> module, but that is entirely optional. \n",
    "    \n",
    "     Note: this experiment involves some matrix eigenvalue computations, which are comparatively expensive. If you set n larger than about 5000, be prepared to wait a few minutes for your answer, especially if you are running on a laptop."
   ]
  },
  {
   "cell_type": "code",
   "execution_count": 7,
   "metadata": {},
   "outputs": [],
   "source": [
    "# density curve\n",
    "x = np.arange(-2, 2, 0.01)\n",
    "density = np.vectorize(wigner_density) # element-wise multiplication\n",
    "y = density(x)"
   ]
  },
  {
   "cell_type": "code",
   "execution_count": 8,
   "metadata": {},
   "outputs": [
    {
     "data": {
      "text/plain": [
       "Text(0.5, 1.0, 'N = 1000')"
      ]
     },
     "execution_count": 8,
     "metadata": {},
     "output_type": "execute_result"
    },
    {
     "data": {
      "image/png": "[encoded data removed]",
      "text/plain": [
       "<Figure size 720x720 with 4 Axes>"
      ]
     },
     "metadata": {
      "needs_background": "light"
     },
     "output_type": "display_data"
    }
   ],
   "source": [
    "fig = plt.figure(figsize=(10,10))\n",
    "fig.add_subplot(411)\n",
    "plt.hist(get_spectrum(generate_wigner(100)), color = 'blue', density = True)\n",
    "plt.plot(x, y, color = 'red')\n",
    "plt.title('N = 100')\n",
    "\n",
    "fig.add_subplot(412)\n",
    "plt.hist(get_spectrum(generate_wigner(200)), color = 'blue', density = True)\n",
    "plt.plot(x, y, color = 'red')\n",
    "plt.title('N =200')\n",
    "\n",
    "fig.add_subplot(413)\n",
    "plt.hist(get_spectrum(generate_wigner(500)), color = 'blue', density = True)\n",
    "plt.plot(x, y, color = 'red')\n",
    "plt.title('N = 500')\n",
    "\n",
    "fig.add_subplot(414)\n",
    "plt.hist(get_spectrum(generate_wigner(1000)), color = 'blue', density = True)\n",
    "plt.plot(x, y, color = 'red')\n",
    "plt.title('N = 1000')"
   ]
  },
  {
   "cell_type": "code",
   "execution_count": 9,
   "metadata": {},
   "outputs": [
    {
     "data": {
      "text/plain": [
       "Text(0.5, 1.0, 'N = 7000')"
      ]
     },
     "execution_count": 9,
     "metadata": {},
     "output_type": "execute_result"
    },
    {
     "data": {
      "image/png": "[encoded data removed]",
      "text/plain": [
       "<Figure size 432x288 with 2 Axes>"
      ]
     },
     "metadata": {
      "needs_background": "light"
     },
     "output_type": "display_data"
    }
   ],
   "source": [
    "# setting N = 5000\n",
    "fige = plt.figure()\n",
    "fige.add_subplot(211)\n",
    "plt.hist(get_spectrum(generate_wigner(5000)), color = 'blue', density = True)\n",
    "plt.plot(x, y, color = 'red')\n",
    "plt.title('N = 5000')\n"
   ]
  },
  {
   "cell_type": "markdown",
   "metadata": {},
   "source": [
    "N = 5000 is large enough for eigenvalues to form a semicircle."
   ]
  },
  {
   "cell_type": "markdown",
   "metadata": {},
   "source": [
    "### Problem 2 Plotting a Mixture of Normals\n",
    "The whole reason that we use plotting software is to visualize the data that we are work- ing with, so let’s do that. The zip file located at \n",
    "www-personal.umich.edu/~klevin/teaching/Winter2019/STATS507/hw5_files.zip  contains two files, storing data from an experiment in my own research. \n",
    "\n",
    "   The file points.dlm is a tab-delimited file (.dlm stands for “delimited”). Such a format is common when writing reasonably small files, and is useful if you expect to use a data set across different programs or platforms. See the documentation for the command numpy.loadtxt to see how to read this file. The file labels.npy is a numpy binary file, representing a numpy object. The .npy file format is specific to numpy. Many languages (e.g., R and MATLAB) have their own such language-specific file formats for saving variables, workspaces, etc. \n",
    "   \n",
    "   These formats tend to be more space-efficient, typically at the cost of program-dependence. It is best to avoid such files if you expect to deal with the same data set in several different environments (e.g., you run experiments in MATLAB and do your statistical analysis in R). .npy files are opened using numpy.load.\n",
    "\n",
    "   The observations in my experiment were generated from a distribution that is approximately normal, but not precisely so. Let’s explore how well the normal approximation holds."
   ]
  },
  {
   "cell_type": "markdown",
   "metadata": {},
   "source": [
    "1.  Download the .zip file, extract it, and read the two files into numpy. Please include both labels.npy and points.dlm in your final submission.  \n",
    "    The former of these should yield a numpy array of 0s and 1s, and the latter should yield a 100-by-2 numpy array, in which each row corresponds to a 2-dimensional point.  \n",
    "    The i-th entry of the array in labels.npy corresponds to the cluster membership label of the i-th row of the matrix stored in points.dlm."
   ]
  },
  {
   "cell_type": "code",
   "execution_count": 10,
   "metadata": {},
   "outputs": [],
   "source": [
    "label = np.load('labels.npy')  # 100x1  (0,1 entries)\n",
    "relabel = np.reshape(label, (100,1))\n",
    "point = np.loadtxt('points.dlm') # 100x2"
   ]
  },
  {
   "cell_type": "markdown",
   "metadata": {},
   "source": [
    "2. Generate a scatter plot of the data. Each data point should appear as an x (often called a cross in data visualization packages), colored according to its cluster membership as given by points.npy. The points with cluster label 0 should be colored blue, and those with cluster label 1 should be colored red. Set the x and y axes to both range from 0 to 1. Adjust the size of the point markers to what you believe to be reasonable (i.e., aesthetically pleasing, visible, etc).\n"
   ]
  },
  {
   "cell_type": "code",
   "execution_count": 11,
   "metadata": {},
   "outputs": [],
   "source": [
    "# subsetting data to cluster 0 and 1\n",
    "full = np.append(point, relabel, axis=1)\n",
    "zero = full[full[:,2]==0]\n",
    "one = full[full[:,2]==1]"
   ]
  },
  {
   "cell_type": "code",
   "execution_count": 12,
   "metadata": {},
   "outputs": [
    {
     "data": {
      "image/png": "[encoded data removed]",
      "text/plain": [
       "<Figure size 432x288 with 1 Axes>"
      ]
     },
     "metadata": {
      "needs_background": "light"
     },
     "output_type": "display_data"
    }
   ],
   "source": [
    "fig = plt.figure()\n",
    "plt.xlim([0,1])\n",
    "plt.ylim([0,1])\n",
    "plt.scatter(zero[:,0], zero[:,1], color = 'blue', label = 'zero', s = 10)\n",
    "plt.scatter(one[:,0], one[:,1], color = 'red', label = 'one', s = 10)\n",
    "_ = plt.legend(loc = 'best')"
   ]
  },
  {
   "cell_type": "markdown",
   "metadata": {},
   "source": [
    "3. Theoretically, the data should approximate a mixture of normals with means and covariance matrices given by\n",
    "$$ \\mu_{0} = (0.2, 0.7)^{T}, \\Sigma_{0} = \\begin{bmatrix}0.015 & -0.011 \\\\ -0.011 & 0.018\\end{bmatrix} $$\n",
    "$$ \\mu_{1} = (0.65, 0.3)^{T}, \\Sigma_{1} = \\begin{bmatrix}0.016 & -0.011 \\\\ -0.011 & 0.016\\end{bmatrix} $$\n",
    "For each of these two normal distributions, add two contour lines corresponding to 1 and 2 “standard deviations” of the distribution.   \n",
    "We will take the 1-standard deviation contour to be the level set (which is an ellipse) of the normal distribution that encloses probability mass 0.68 of the distribution, and the 2-standard deviation contour to be the level set that encloses probability mass 0.95 of the distribution.   \n",
    "\n",
    "    The contour lines for cluster 0 should be colored blue, and the lines for cluster 1 should be colored red. The contour lines will go off the edge of the 1-by-1 square that we have plotted. Do not worry about that. \n",
    "\n",
    "   Hint: these ellipses are really just confidence regions given by\n",
    "   $$ (x-\\mu)^{T}\\Sigma^{-1}(x-\\mu)\\leqslant X_{2}^{2}(p)$$\n",
    "   \n",
    "   where $p$ is a probability and $X^{2}_{d}$ is the quantile function for the $X^{2}$ distribution with $d$ degrees of freedom. \n",
    "   \n",
    "   Hint: use the optional argument <span style=\"font-family:Courier; font-size:1em;\">levels</span> for the <span style=\"font-family:Courier; font-size:1em;\">pyplot.contour</span> function."
   ]
  },
  {
   "cell_type": "code",
   "execution_count": 13,
   "metadata": {},
   "outputs": [
    {
     "data": {
      "text/plain": [
       "array([2.27886857, 5.99146455])"
      ]
     },
     "execution_count": 13,
     "metadata": {},
     "output_type": "execute_result"
    }
   ],
   "source": [
    "# find chi-square score\n",
    "from scipy.stats import chi2\n",
    "chi2.ppf([0.68, 0.95], df = 2)"
   ]
  },
  {
   "cell_type": "code",
   "execution_count": 14,
   "metadata": {},
   "outputs": [],
   "source": [
    "from scipy import linalg\n",
    "mu0 = np.array([0.2, 0.7])\n",
    "mu1 = np.array([0.65, 0.3])\n",
    "sigma0 = np.array([[0.015, -0.011], [-0.011, 0.018]])\n",
    "sigma1 = np.array([[0.016, -0.011], [-0.011, 0.016]])\n"
   ]
  },
  {
   "cell_type": "code",
   "execution_count": 15,
   "metadata": {},
   "outputs": [
    {
     "data": {
      "text/plain": [
       "<matplotlib.contour.QuadContourSet at 0x112631940>"
      ]
     },
     "execution_count": 15,
     "metadata": {},
     "output_type": "execute_result"
    },
    {
     "data": {
      "image/png": "[encoded data removed]",
      "text/plain": [
       "<Figure size 432x288 with 1 Axes>"
      ]
     },
     "metadata": {
      "needs_background": "light"
     },
     "output_type": "display_data"
    }
   ],
   "source": [
    "x, y = np.mgrid[0:1:.01, 0:1:.01]\n",
    "pos = np.empty(x.shape + (2,))  \n",
    "pos[:, :, 0] = x; pos[:, :, 1] = y\n",
    "mvn1 = scipy.stats.multivariate_normal(mu0,sigma0)\n",
    "mvn2 = scipy.stats.multivariate_normal(mu1,sigma1)\n",
    "\n",
    "fig3 = plt.figure()\n",
    "plt.xlim([0,1])\n",
    "plt.ylim([0,1])\n",
    "plt.scatter(zero[:,0], zero[:,1], color = 'blue', label = 'zero', s = 10)\n",
    "plt.scatter(one[:,0], one[:,1], color = 'red', label = 'one', s = 10)\n",
    "plt.legend(loc = 'best')\n",
    "plt.contour(x, y, mvn1.pdf(pos), levels = [2.27886857, 5.99146455], colors = 'blue') \n",
    "plt.contour(x, y, mvn2.pdf(pos), levels = [2.27886857, 5.99146455], colors = 'red') "
   ]
  },
  {
   "cell_type": "markdown",
   "metadata": {},
   "source": [
    "4. Do the data appear normal? There should be at least one obvious outlier. Add an annotation to your figure indicating one or more such outlier(s).\n"
   ]
  },
  {
   "cell_type": "markdown",
   "metadata": {},
   "source": [
    "one outlier exist in the red zone."
   ]
  },
  {
   "cell_type": "code",
   "execution_count": 16,
   "metadata": {},
   "outputs": [
    {
     "data": {
      "text/plain": [
       "Text(1.2, 0.2, 'outlier')"
      ]
     },
     "execution_count": 16,
     "metadata": {},
     "output_type": "execute_result"
    },
    {
     "data": {
      "image/png": "[encoded data removed]",
      "text/plain": [
       "<Figure size 432x288 with 1 Axes>"
      ]
     },
     "metadata": {
      "needs_background": "light"
     },
     "output_type": "display_data"
    }
   ],
   "source": [
    "fig4 = plt.figure()\n",
    "plt.xlim([0,1])\n",
    "plt.ylim([0,1])\n",
    "plt.scatter(zero[:,0], zero[:,1], color = 'blue', label = 'zero', s = 10)\n",
    "plt.scatter(one[:,0], one[:,1], color = 'red', label = 'one', s = 10)\n",
    "plt.legend(loc = 'best')\n",
    "plt.contour(x, y, mvn1.pdf(pos), levels = [2.27886857, 5.99146455], colors = 'blue') \n",
    "plt.contour(x, y, mvn2.pdf(pos), levels = [2.27886857, 5.99146455], colors = 'red') \n",
    "plt.annotate('outlier', xy = (0.98788763,0.25612301), xytext = (1.2, 0.2), fontsize = 14, \n",
    "                 arrowprops = dict(facecolor = 'black', shrink = 0.02))"
   ]
  },
  {
   "cell_type": "markdown",
   "metadata": {},
   "source": [
    "### Problem 3 Conway’s Game of Life\n",
    "Conway’s Game of Life (https://en.wikipedia.org/wiki/Conway%27s_Game_of_Life) is a classic example of a cellular automaton devised by mathematician John Conway. The game is a classic example of how simple rules can give rise to complex behavior. The game is played on an m-by-n board, which we will represent as an m-by-n matrix. The game proceeds in steps. At any given time, each cell of the board (i.e., entry of our matrix), is either alive (which we will represent as a 1) or dead (which we will represent as a 0). At each step, the board evolves according to a few simple rules:\n",
    "\n",
    "• A live cell with fewer than two live neighbors becomes a dead cell.   \n",
    "• A live cell with more than three live neighbors becomes a dead cell.   \n",
    "• A live cell with two or three live neighbors remains alive.  \n",
    "• A dead cell with exactly three live neighbors becomes alive.  \n",
    "• All other dead cells remain dead.  \n",
    "\n",
    "   The neighbors of a cell are the 8 cells adjacent to it, i.e., left, right, above, below, upper- left, lower-left, upper-right and lower-right. We will follow the convention that the board is toroidal, so that using matrix-like notation (i.e., the cell (0,0) is in the upper-left of the board and the first coordinate specifies a row), the upper neighbor of the cell (0,0) is (m − 1,0), the right neighbor of the cell (m − 1,n − 1) is (m − 1,0), etc. That is, the board “wraps around”. \n",
    "   \n",
    "   Note: you are not required to use this matrix-like indexing. It’s just what I chose to use to explain the toroidal property."
   ]
  },
  {
   "cell_type": "markdown",
   "metadata": {},
   "source": [
    "1. Write a function <span style=\"font-family:Courier; font-size:1em;\">is_valid_board</span> that takes an m-by-n numpy array (i.e., an ndarray) as its only argument and returns a Python Boolean that is True if and only if the argument is a valid representation of a Game of Life board. A valid board is any two-dimensional numpy ndarray with all entries either 0.0 and 1.0."
   ]
  },
  {
   "cell_type": "code",
   "execution_count": 33,
   "metadata": {},
   "outputs": [],
   "source": [
    "def is_valid_board(a):\n",
    "    # CHECK DIM, TYPE NDARRAY\n",
    "    if type(a) != np.ndarray:\n",
    "        return False\n",
    "    if len(a.shape) != 2:\n",
    "        return False\n",
    "    for i in a:   \n",
    "        for j in i: \n",
    "            if not (j==1.0 or j==0.0):\n",
    "                return False\n",
    "    return True"
   ]
  },
  {
   "cell_type": "code",
   "execution_count": 34,
   "metadata": {},
   "outputs": [
    {
     "data": {
      "text/plain": [
       "True"
      ]
     },
     "execution_count": 34,
     "metadata": {},
     "output_type": "execute_result"
    }
   ],
   "source": [
    "a = np.array([[0,1,0,1], [1,0,0,1], [1,1,0,0]])\n",
    "is_valid_board(a)"
   ]
  },
  {
   "cell_type": "code",
   "execution_count": 19,
   "metadata": {},
   "outputs": [
    {
     "data": {
      "text/plain": [
       "False"
      ]
     },
     "execution_count": 19,
     "metadata": {},
     "output_type": "execute_result"
    }
   ],
   "source": [
    "b = np.array([[0,1,1,1], [0,0,0,3], [1,1,0,0]])\n",
    "is_valid_board(b)"
   ]
  },
  {
   "cell_type": "markdown",
   "metadata": {},
   "source": [
    "2. Write a function called <span style=\"font-family:Courier; font-size:1em;\">gol_step</span> that takes an m-by-n numpy array as its argument and returns another numpy array of the same size (i.e., also m-by-n), corresponding to the board at the next step of the game. \n",
    "\n",
    "    Your function should perform error checking to ensure that the provided argument is a valid Game of Life board."
   ]
  },
  {
   "cell_type": "code",
   "execution_count": 20,
   "metadata": {},
   "outputs": [],
   "source": [
    "def gol_step(a):\n",
    "    rows = np.shape(a)[0]\n",
    "    cols = np.shape(a)[1]\n",
    "    new_a = np.zeros(shape = (rows, cols))\n",
    "    if is_valid_board(a) == False:\n",
    "        raise TypeError\n",
    "    else:\n",
    "        for row in range(rows):       # iterate over row\n",
    "            for col in range(cols):   # iterate over column\n",
    "            # a[row][col] is the target cell\n",
    "            # iterate the neighbor surround center\n",
    "                total = 0\n",
    "                for i in range(-1, 2):\n",
    "                    for j in range(-1, 2):\n",
    "                        \n",
    "                        if not (i == 0 and j == 0):\n",
    "                            total += a[((row + i) % rows)][((col + j) % cols)]\n",
    "                #print(total)\n",
    "                #print(\"({} {}): {}\".format(row, col, total))\n",
    "                if total < 2 or total > 3:\n",
    "                    new_a[row][col] = 0\n",
    "                elif total == 3 and a[row][col] == 0:\n",
    "                    new_a[row][col] = 1\n",
    "                else:\n",
    "                    new_a[row][col] = a[row][col]\n",
    "    return new_a\n"
   ]
  },
  {
   "cell_type": "code",
   "execution_count": 21,
   "metadata": {},
   "outputs": [],
   "source": [
    "x = np.array([[0, 1, 0, 0, 0],\n",
    " [1, 0, 0, 1, 0],\n",
    " [1, 0, 0, 0, 1],\n",
    " [0, 1, 0, 0, 0],\n",
    " [0, 0, 0, 0, 0]])\n",
    "y = gol_step(x)\n"
   ]
  },
  {
   "cell_type": "markdown",
   "metadata": {},
   "source": [
    "3. Write a function called draw_gol_board that takes an m-by-n numpy array (i.e., an ndarray) as its only argument and draws the board as an m-by-n set of tiles, colored black or white correspond to whether the corresponding cell is alive or dead, respectively. Your plot should not have any grid lines, nor should it have any axis labels or axis ticks. \n",
    "\n",
    "    Hint: see the functions plt.xticks() and plt.yticks() for changing axis ticks. \n",
    "\n",
    "    Hint: you may find the function plt.get_cmap to be useful for working with the matplotlib Colormap objects."
   ]
  },
  {
   "cell_type": "code",
   "execution_count": 22,
   "metadata": {},
   "outputs": [],
   "source": [
    "def draw_gol_board(a):\n",
    "    plt.imshow(a, cmap='binary')\n",
    "    plt.xticks([])\n",
    "    plt.yticks([])\n",
    "    return plt.show()"
   ]
  },
  {
   "cell_type": "code",
   "execution_count": 23,
   "metadata": {},
   "outputs": [
    {
     "data": {
      "text/plain": [
       "array([[0, 1, 0, 0, 0],\n",
       "       [1, 0, 0, 1, 0],\n",
       "       [1, 0, 0, 0, 1],\n",
       "       [0, 1, 0, 0, 0],\n",
       "       [0, 0, 0, 0, 0]])"
      ]
     },
     "execution_count": 23,
     "metadata": {},
     "output_type": "execute_result"
    }
   ],
   "source": [
    "x"
   ]
  },
  {
   "cell_type": "code",
   "execution_count": 24,
   "metadata": {},
   "outputs": [
    {
     "data": {
      "image/png": "[encoded data removed]",
      "text/plain": [
       "<Figure size 432x288 with 1 Axes>"
      ]
     },
     "metadata": {},
     "output_type": "display_data"
    }
   ],
   "source": [
    "board = draw_gol_board(x)"
   ]
  },
  {
   "cell_type": "markdown",
   "metadata": {},
   "source": [
    "4.  Create a 20-by-20 numpy array corresponding to a Game of Life board in which all cells are dead, with the exception that the top-left 5-by-5 section of the board looks like this:\n",
    "    \n",
    "    Plot this 20-by-20 board using draw_gol_board."
   ]
  },
  {
   "cell_type": "code",
   "execution_count": 25,
   "metadata": {},
   "outputs": [],
   "source": [
    "a = np.zeros(shape = (20,20))\n",
    "a[1,2] = 1\n",
    "a[3,1] = 1\n",
    "a[3,2] = 1\n",
    "a[2,3] = 1\n",
    "a[3,3] = 1"
   ]
  },
  {
   "cell_type": "code",
   "execution_count": 26,
   "metadata": {},
   "outputs": [
    {
     "data": {
      "image/png": "[encoded data removed]",
      "text/plain": [
       "<Figure size 432x288 with 1 Axes>"
      ]
     },
     "metadata": {},
     "output_type": "display_data"
    }
   ],
   "source": [
    "draw_gol_board(a)"
   ]
  },
  {
   "cell_type": "markdown",
   "metadata": {},
   "source": [
    "5. Generate a plot with 5 subplots, arranged in a 5-by-1 grid, showing the first five steps of the Game of Life when started with the board you just created, with the steps ordered from top to bottom, The figure in the 5-by-5 sub-board above is called a glider, and it is interesting in that, as you can see from your plot, it seems to move along the board as you run the game."
   ]
  },
  {
   "cell_type": "code",
   "execution_count": 27,
   "metadata": {},
   "outputs": [],
   "source": [
    "b = gol_step(a)\n",
    "c = gol_step(b)\n",
    "d = gol_step(c)\n",
    "e = gol_step(d)"
   ]
  },
  {
   "cell_type": "code",
   "execution_count": 28,
   "metadata": {},
   "outputs": [
    {
     "data": {
      "image/png": "[encoded data removed]",
      "text/plain": [
       "<Figure size 1656x1656 with 1 Axes>"
      ]
     },
     "metadata": {},
     "output_type": "display_data"
    },
    {
     "data": {
      "image/png": "[encoded data removed]",
      "text/plain": [
       "<Figure size 432x288 with 1 Axes>"
      ]
     },
     "metadata": {},
     "output_type": "display_data"
    },
    {
     "data": {
      "image/png": "[encoded data removed]",
      "text/plain": [
       "<Figure size 432x288 with 1 Axes>"
      ]
     },
     "metadata": {},
     "output_type": "display_data"
    },
    {
     "data": {
      "image/png": "[encoded data removed]",
      "text/plain": [
       "<Figure size 432x288 with 1 Axes>"
      ]
     },
     "metadata": {},
     "output_type": "display_data"
    },
    {
     "data": {
      "image/png": "[encoded data removed]",
      "text/plain": [
       "<Figure size 432x288 with 1 Axes>"
      ]
     },
     "metadata": {},
     "output_type": "display_data"
    }
   ],
   "source": [
    "fig = plt.figure(figsize=(23,23))\n",
    "\n",
    "fig.add_subplot(511)\n",
    "draw_gol_board(a)\n",
    "\n",
    "fig.add_subplot(512)\n",
    "draw_gol_board(b)\n",
    "\n",
    "fig.add_subplot(513)\n",
    "draw_gol_board(c)\n",
    "\n",
    "fig.add_subplot(514)\n",
    "draw_gol_board(d)\n",
    "\n",
    "fig.add_subplot(515)\n",
    "draw_gol_board(e)\n"
   ]
  },
  {
   "cell_type": "markdown",
   "metadata": {},
   "source": [
    "Optional additional exercise: create a function that takes two arguments, a Game of Life board and a number of steps, and generates an animation of the game as it runs for the given number of steps."
   ]
  }
 ],
 "metadata": {
  "kernelspec": {
   "display_name": "Python 3",
   "language": "python",
   "name": "python3"
  },
  "language_info": {
   "codemirror_mode": {
    "name": "ipython",
    "version": 3
   },
   "file_extension": ".py",
   "mimetype": "text/x-python",
   "name": "python",
   "nbconvert_exporter": "python",
   "pygments_lexer": "ipython3",
   "version": "3.7.1"
  }
 },
 "nbformat": 4,
 "nbformat_minor": 2
}
