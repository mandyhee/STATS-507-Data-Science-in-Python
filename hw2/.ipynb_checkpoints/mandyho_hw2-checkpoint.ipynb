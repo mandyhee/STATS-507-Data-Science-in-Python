{
 "cells": [
  {
   "cell_type": "markdown",
   "metadata": {},
   "source": [
    "# STATS 507 HW2 Iteration, Sequences and Dictionaries\n",
    "### Meng-Ni Ho\n",
    "#### mandyho@umich.edu\n",
    "\n",
    "Time to complete each problem:\n",
    "\n",
    "   Problem 1: 1hr\n",
    "   Problem 2: 40 min\n",
    "   Problem 3: 30 min\n",
    "   Problem 4: 2hr\n",
    "   Problem 5: 2 hr\n",
    "   Problem 6: 2 hr\n",
    "\n",
    "<span style=\"color:red\">10.5/15  \n",
    "1.1 -0.5 doesn't handle j=0 in your loop condition  \n",
    "1.2 -0.5 doesn't handle capital letters correctly  \n",
    "2.2 -1 improper function\n",
    "3.1 -0.5 wrong return format  \n",
    "3.2 -0.5 wrong return format  \n",
    "6.1 -1 improper function  \n",
    "6.3 -0.5 doesn't handle n rotations of greater than length  </span>\n"
   ]
  },
  {
   "cell_type": "markdown",
   "metadata": {},
   "source": [
    "### Problem 1 Fun with strings"
   ]
  },
  {
   "cell_type": "markdown",
   "metadata": {},
   "source": [
    "1. Write a function called is_palindrome, which takes a string as its only argument, and returns a Boolean. Your function should return True if the argument is a palindrome, and False otherwise. For the purposes of this problem, you may assume that the input is a string and will consist only of alphanumeric characters (i.e., the letters, either upper or lower case, and the digits 0 through 9) and spaces. Your function should ignore spaces and capitalization in assessing whether or not a string is a palindrome, so that tacocat and T A C O cat are both considered palindromes.\n",
    "\n",
    "   A palindrome is a word or phrase that reads the same backwards and forwards (https://en.wikipedia.org/wiki/Palindrome). So, for example, the words “level”, “kayak” and “pop” are all English palindromes, as are the phrases “rats live on no evil star” and “Was it a car or a cat I saw?”, provided we ignore the spaces and punctuation.\n"
   ]
  },
  {
   "cell_type": "code",
   "execution_count": 15,
   "metadata": {},
   "outputs": [],
   "source": [
    "def is_palindrome(s):\n",
    "    s = s.lower()\n",
    "    i = 0\n",
    "    j = len(s)-1\n",
    "    while i < len(s) and j < len(s):\n",
    "        if s[i] == \" \":\n",
    "            i += 1\n",
    "        if s[j] == \" \":\n",
    "            j -= 1\n",
    "        if s[i] != s[j]:\n",
    "            return False\n",
    "        i += 1\n",
    "        j -= 1\n",
    "    return True    "
   ]
  },
  {
   "cell_type": "code",
   "execution_count": 19,
   "metadata": {},
   "outputs": [
    {
     "ename": "IndexError",
     "evalue": "string index out of range",
     "output_type": "error",
     "traceback": [
      "\u001b[0;31m---------------------------------------------------------------------------\u001b[0m",
      "\u001b[0;31mIndexError\u001b[0m                                Traceback (most recent call last)",
      "\u001b[0;32m<ipython-input-19-231ac046372c>\u001b[0m in \u001b[0;36m<module>\u001b[0;34m\u001b[0m\n\u001b[0;32m----> 1\u001b[0;31m \u001b[0mprint\u001b[0m\u001b[0;34m(\u001b[0m\u001b[0mis_palindrome\u001b[0m\u001b[0;34m(\u001b[0m\u001b[0;34m' '\u001b[0m\u001b[0;34m)\u001b[0m\u001b[0;34m)\u001b[0m\u001b[0;34m\u001b[0m\u001b[0;34m\u001b[0m\u001b[0m\n\u001b[0m\u001b[1;32m      2\u001b[0m \u001b[0mprint\u001b[0m\u001b[0;34m(\u001b[0m\u001b[0mis_palindrome\u001b[0m\u001b[0;34m(\u001b[0m\u001b[0;34m'rats live on no evil star'\u001b[0m\u001b[0;34m)\u001b[0m\u001b[0;34m)\u001b[0m\u001b[0;34m\u001b[0m\u001b[0;34m\u001b[0m\u001b[0m\n\u001b[1;32m      3\u001b[0m \u001b[0mprint\u001b[0m\u001b[0;34m(\u001b[0m\u001b[0mis_palindrome\u001b[0m\u001b[0;34m(\u001b[0m\u001b[0;34m'Was it a car or a cat I saw'\u001b[0m\u001b[0;34m)\u001b[0m\u001b[0;34m)\u001b[0m\u001b[0;34m\u001b[0m\u001b[0;34m\u001b[0m\u001b[0m\n\u001b[1;32m      4\u001b[0m \u001b[0mprint\u001b[0m\u001b[0;34m(\u001b[0m\u001b[0mis_palindrome\u001b[0m\u001b[0;34m(\u001b[0m\u001b[0;34m'apple'\u001b[0m\u001b[0;34m)\u001b[0m\u001b[0;34m)\u001b[0m\u001b[0;34m\u001b[0m\u001b[0;34m\u001b[0m\u001b[0m\n",
      "\u001b[0;32m<ipython-input-15-c75857d4bb82>\u001b[0m in \u001b[0;36mis_palindrome\u001b[0;34m(s)\u001b[0m\n\u001b[1;32m      8\u001b[0m         \u001b[0;32mif\u001b[0m \u001b[0ms\u001b[0m\u001b[0;34m[\u001b[0m\u001b[0mj\u001b[0m\u001b[0;34m]\u001b[0m \u001b[0;34m==\u001b[0m \u001b[0;34m\" \"\u001b[0m\u001b[0;34m:\u001b[0m\u001b[0;34m\u001b[0m\u001b[0;34m\u001b[0m\u001b[0m\n\u001b[1;32m      9\u001b[0m             \u001b[0mj\u001b[0m \u001b[0;34m-=\u001b[0m \u001b[0;36m1\u001b[0m\u001b[0;34m\u001b[0m\u001b[0;34m\u001b[0m\u001b[0m\n\u001b[0;32m---> 10\u001b[0;31m         \u001b[0;32mif\u001b[0m \u001b[0ms\u001b[0m\u001b[0;34m[\u001b[0m\u001b[0mi\u001b[0m\u001b[0;34m]\u001b[0m \u001b[0;34m!=\u001b[0m \u001b[0ms\u001b[0m\u001b[0;34m[\u001b[0m\u001b[0mj\u001b[0m\u001b[0;34m]\u001b[0m\u001b[0;34m:\u001b[0m\u001b[0;34m\u001b[0m\u001b[0;34m\u001b[0m\u001b[0m\n\u001b[0m\u001b[1;32m     11\u001b[0m             \u001b[0;32mreturn\u001b[0m \u001b[0;32mFalse\u001b[0m\u001b[0;34m\u001b[0m\u001b[0;34m\u001b[0m\u001b[0m\n\u001b[1;32m     12\u001b[0m         \u001b[0mi\u001b[0m \u001b[0;34m+=\u001b[0m \u001b[0;36m1\u001b[0m\u001b[0;34m\u001b[0m\u001b[0;34m\u001b[0m\u001b[0m\n",
      "\u001b[0;31mIndexError\u001b[0m: string index out of range"
     ]
    }
   ],
   "source": [
    "print(is_palindrome(' '))\n",
    "print(is_palindrome('rats live on no evil star'))\n",
    "print(is_palindrome('Was it a car or a cat I saw'))\n",
    "print(is_palindrome('apple'))"
   ]
  },
  {
   "cell_type": "markdown",
   "metadata": {},
   "source": [
    "2. Write a function is_abecedarian, which takes a single argument in the form of a string and returns True if the argument is abecedarian and False otherwise. Here you may assume that the input consists only of alphabetic characters and spaces. You function should ignore spaces, so that the string abcd efgh xyz is considered abecedarian.\n",
    "\n",
    "     A word is “abecedarian” if its letters appear in alphabetical order (repeated letters are okay). So, for example, “adder” and “beet” are abecedarian, whereas “dog” and “cat” are not"
   ]
  },
  {
   "cell_type": "code",
   "execution_count": 3,
   "metadata": {},
   "outputs": [],
   "source": [
    "def is_abecedarian(s):\n",
    "    s = s.replace(\" \",\"\")\n",
    "    for i in range(0,len(s)-1):\n",
    "        if s[i] > s[i+1]:\n",
    "            return False\n",
    "    return True"
   ]
  },
  {
   "cell_type": "code",
   "execution_count": 4,
   "metadata": {},
   "outputs": [
    {
     "name": "stdout",
     "output_type": "stream",
     "text": [
      "False\n",
      "False\n",
      "True\n",
      "True\n",
      "True\n"
     ]
    }
   ],
   "source": [
    "print(is_abecedarian('dog'))\n",
    "print(is_abecedarian('cat'))\n",
    "print(is_abecedarian('beet'))\n",
    "print(is_abecedarian('adder'))\n",
    "print(is_abecedarian('abcd efgh xyz'))"
   ]
  },
  {
   "cell_type": "markdown",
   "metadata": {},
   "source": [
    "3. Write a function called remove_vowels that takes a string as its only argument and returns that string with all the vowels removed. For the purposes of this question, the vowels are the letters “a e i o u”. Thus, remove_vowels(’cat’) should return ’ct’, remove_vowels(’audio’) should return ’d’, etc. Take care that your function correctly handles a string of all vowels. \n",
    "   \n",
    "   Hint: there is a particularly elegant solution to this problem that makes use of the accumulator pattern we saw in lecture and the fact that Python strings implement the addition operation as string concatenation."
   ]
  },
  {
   "cell_type": "code",
   "execution_count": 5,
   "metadata": {},
   "outputs": [],
   "source": [
    "def remove_vowels(s):\n",
    "    vowels = ['a', 'e', 'i', 'o', 'u']\n",
    "    new_s = ''\n",
    "    for i in s:\n",
    "        if i not in vowels:\n",
    "            new_s = new_s + i\n",
    "    return new_s"
   ]
  },
  {
   "cell_type": "code",
   "execution_count": 6,
   "metadata": {},
   "outputs": [
    {
     "name": "stdout",
     "output_type": "stream",
     "text": [
      "d\n",
      "ct\n",
      "ths s  strng\n"
     ]
    }
   ],
   "source": [
    "print(remove_vowels('audio'))\n",
    "print(remove_vowels('cat'))\n",
    "print(remove_vowels('this is a string'))"
   ]
  },
  {
   "cell_type": "markdown",
   "metadata": {},
   "source": [
    "### Problem 2 Fun with lists \n",
    "\n",
    "In this problem, you’ll implement a few very simple list operations."
   ]
  },
  {
   "cell_type": "markdown",
   "metadata": {},
   "source": [
    "1. Write a function list_reverse that takes a list as an argument and returns that list, reversed. That is, given the list [1,2,3], your function should return the reversed list, [3,2,1]. Your function should raise an appropriate error in the event that the input is not a list."
   ]
  },
  {
   "cell_type": "code",
   "execution_count": 7,
   "metadata": {},
   "outputs": [],
   "source": [
    "def list_reverse(l):\n",
    "    new_l = []\n",
    "    if type(l) != list:\n",
    "        raise TypeError('input not a list')\n",
    "    else:\n",
    "        for i in range(-1, -len(l)-1, -1):\n",
    "            new_l.append(l[i])\n",
    "    return new_l"
   ]
  },
  {
   "cell_type": "code",
   "execution_count": 8,
   "metadata": {},
   "outputs": [
    {
     "name": "stdout",
     "output_type": "stream",
     "text": [
      "[3, 2, 1]\n",
      "['dtw', 'jfk', 'mco']\n"
     ]
    }
   ],
   "source": [
    "print(list_reverse([1,2,3]))\n",
    "print(list_reverse(['mco', 'jfk', 'dtw']))"
   ]
  },
  {
   "cell_type": "markdown",
   "metadata": {},
   "source": [
    "2. Write a function is_sorted that takes a sequence seq as its only argument and returns True if the sequence is sorted in ascending order and returns False otherwise. You may assume that seq is, in fact, a Python sequence. \n",
    "\n",
    "    Your function should require a single traversal of the list, and inefficient solutions (i.e., ones that require more than one traversal) will not receive full credit. You may assume that all elements in the input sequence seq support the comparison operations (==, </>, >=, etc), so that there is no need for error checking. (Indeed, if you try to make the comparison, say, 1 < ’cat’, Python will raise an error for you, anyway.) \n",
    "    \n",
    "    Note: this problem illustrates a particularly useful aspect of Python’s dynamic typing. It is possible to write this function while being agnostic as to the type of the input variable. It requires only that seq supports indexing and that the elements in seq support the comparison operations."
   ]
  },
  {
   "cell_type": "code",
   "execution_count": 9,
   "metadata": {},
   "outputs": [],
   "source": [
    "def is_sorted(seq):\n",
    "    for i in range(0, len(seq)):\n",
    "        if seq[i] <= seq[i+1]:\n",
    "            return True\n",
    "        else:\n",
    "            return False"
   ]
  },
  {
   "cell_type": "code",
   "execution_count": 10,
   "metadata": {},
   "outputs": [
    {
     "name": "stdout",
     "output_type": "stream",
     "text": [
      "True\n",
      "False\n",
      "True\n"
     ]
    }
   ],
   "source": [
    "print(is_sorted('abc'))\n",
    "print(is_sorted([2,1,0]))\n",
    "print(is_sorted(('a','b','c')))"
   ]
  },
  {
   "cell_type": "markdown",
   "metadata": {},
   "source": [
    "3. This one is a common coding interview question. Write a function called binary_search that takes two arguments, a list of integers t (which is guaranteed to be sorted in ascending order) and an integer elmt, and returns True if elmt appears in list t and False otherwise. \n",
    "\n",
    "    Of course, you could do this with the in operator, but that will be slow when the list is long, for reasons that we discussed in class. Instead, you should use binary search: To look for elmt, first look at the “middle” element of the list t. If it’s a match, return True . If it isn’t a match, compare elmt against the “middle” element, and recurse, searching the first or second half of the list depending on whether elmt is bigger or smaller than the middle element. \n",
    "    \n",
    "    Hint: be careful of the base cases: What should you do when t is empty, length 1, length 2, etc.? \n",
    "    \n",
    "   Note: your solution must actually make use of binary search to receive credit, and your solution must not use any built-in sorting or searching functions. \n",
    "   \n",
    "   Note: we could, if we wanted, use the function is_sorted that we wrote above to do error checking here, but there is a good reason not to do so. This reason will become clear when we make our brief foray into the topic of runtime analysis later in the semester."
   ]
  },
  {
   "cell_type": "code",
   "execution_count": 12,
   "metadata": {},
   "outputs": [],
   "source": [
    "def binary_search(t, elmt):\n",
    "    mid = int((len(t)-1)/2)\n",
    "    # when case is length 0,1,2\n",
    "    if len(t) == 0: return False\n",
    "    elif len(t) == 1:\n",
    "        if t[0] == elmt: return True\n",
    "    elif len(t) == 2:\n",
    "        if t[0] == elmt or t[1] == elmt: return True\n",
    "    # when case length >= 3\n",
    "    elif elmt == t[mid]: return True\n",
    "    elif elmt < t[mid]:\n",
    "        if elmt in t[0:mid]: return True\n",
    "    elif elmt > t[mid]:\n",
    "        if elmt in t[mid:len(t)]: return True\n",
    "    return False    "
   ]
  },
  {
   "cell_type": "code",
   "execution_count": 16,
   "metadata": {},
   "outputs": [
    {
     "name": "stdout",
     "output_type": "stream",
     "text": [
      "False\n",
      "True\n",
      "True\n",
      "False\n",
      "False\n",
      "True\n",
      "True\n"
     ]
    }
   ],
   "source": [
    "print(binary_search([], 7))\n",
    "print(binary_search([7], 7))\n",
    "print(binary_search([2,7], 7))\n",
    "print(binary_search([2,3], 7))\n",
    "print(binary_search([1,2,4,6], 7))\n",
    "print(binary_search([1,3,4,7,10], 7))\n",
    "print(binary_search([1,2,3,4,9,10], 2))"
   ]
  },
  {
   "cell_type": "markdown",
   "metadata": {},
   "source": [
    "### Problem 3 More fun with strings\n",
    "\n",
    "In this problem, you’ll implement some very simple counting operations that are common in fields like biostatistics and natural language processing. You need not perform any error checking in the functions for this problem."
   ]
  },
  {
   "cell_type": "markdown",
   "metadata": {},
   "source": [
    "1. Write a function called char_hist that takes a string as its argument and returns a dictionary whose keys are characters and values are the number of times each character appeared in the input. \n",
    "\n",
    "    So, for example, given the string “gattaca”, your function should return a dictionary with key-value pairs (g, 1), (a, 3), (t, 2), (c, 1). Your function should count all characters in the input (including spaces, tabs, numbers, etc). The dictionary returned by your function should have as its keys all and only the characters that appeared in the input (i.e., you don’t need to have a bunch of keys with value 0!). \n",
    "    Your function should count capital and lower-case letters as the same, and key on the lower-case version of the character, so that G and g are both counted as the same character, and the corresponding key in the dictionary is g."
   ]
  },
  {
   "cell_type": "code",
   "execution_count": 20,
   "metadata": {},
   "outputs": [],
   "source": [
    "def char_hist(s):\n",
    "    s = s.lower()\n",
    "    dic = {}\n",
    "    times = 1\n",
    "    for i in s:\n",
    "        if i in dic.keys():\n",
    "            dic[i] += 1\n",
    "        else:\n",
    "            dic[i] = 1\n",
    "    return dic"
   ]
  },
  {
   "cell_type": "code",
   "execution_count": 21,
   "metadata": {},
   "outputs": [
    {
     "name": "stdout",
     "output_type": "stream",
     "text": [
      "{'g': 1, 'a': 3, 't': 2, 'c': 1}\n",
      "{'!': 2, '@': 1, 'a': 2, 'n': 2, 'r': 1, 't': 3}\n"
     ]
    }
   ],
   "source": [
    "print(char_hist(\"gattaca\"))\n",
    "print(char_hist(\"!@anna!rttt\"))"
   ]
  },
  {
   "cell_type": "markdown",
   "metadata": {},
   "source": [
    "2. In natural language processing and bioinformatics, we often want to count how often characters or groups of characters appear. Pairs of words or characters are called “bigrams”. For our purposes in this problem, a bigram is a pair of characters. As an example, the string ’mississippi’ contains the following bigrams, in order:\n",
    "                      ’mi’, ’is’, ’ss’, ’si’, ’is’, ’ss’, ’si’, ’ip’, ’pp’, ’pi’\n",
    "    Write a function called bigram_hist that takes a string as its argument and returns a dictionary whose keys are 2-tuples of characters and values are the number of times that pair of characters appeared in the string. So, for example, when called on the string ’mississippi’, your function should return a dictionary with keys\n",
    "                                  ’mi’,’is’,’ss’,’si’,’ip’,’pp’,’pi’\n",
    "    and respective count values\n",
    "                                    1,2,2,2,1,1,1.\n",
    "    As another example, if the two-character string ’ab’ occurred four times in the input, then your function should return a dictionary that includes the key-value pair ((a,b),4). Your function should handle all characters (alphanumerics, spaces, punctuation, etc). So, for example, the string ’cat, dog’ includes the bigrams ’t,’, ’, ’ and ’ d’. \n",
    "    \n",
    "    As in the previous subproblem, the dictionary produced by your function should only include pairs that actually appeared in the input, so that the absence of a given key implies that the corresponding two-character string did not appear in the input. Also as in the previous subproblem, you should count upper- and lower-case letters as the same, so that ’GA’ and ’ga’ both count for the same tuple, (g, a).\n"
   ]
  },
  {
   "cell_type": "code",
   "execution_count": 19,
   "metadata": {},
   "outputs": [],
   "source": [
    "def bigram_hist(s):\n",
    "    s = s.lower()\n",
    "    key = []\n",
    "    dic = {}\n",
    "    for i in range(len(s)-1):\n",
    "        key.append((s[i], s[i+1]))\n",
    "    for i in key:\n",
    "        if i in dic.keys():\n",
    "            dic[i] += 1\n",
    "        else:\n",
    "            dic[i] = 1\n",
    "    return dic.items()"
   ]
  },
  {
   "cell_type": "code",
   "execution_count": 20,
   "metadata": {},
   "outputs": [
    {
     "name": "stdout",
     "output_type": "stream",
     "text": [
      "dict_items([(('m', 'i'), 1), (('i', 's'), 2), (('s', 's'), 2), (('s', 'i'), 2), (('i', 'p'), 1), (('p', 'p'), 1), (('p', 'i'), 1)])\n",
      "dict_items([(('c', 'a'), 1), (('a', 't'), 1), (('t', ','), 1), ((',', ' '), 1), ((' ', 'd'), 1), (('d', 'o'), 1), (('o', 'g'), 1)])\n"
     ]
    }
   ],
   "source": [
    "print(bigram_hist(\"mississippi\"))\n",
    "print(bigram_hist(\"cat, dog\"))"
   ]
  },
  {
   "cell_type": "markdown",
   "metadata": {},
   "source": [
    "### Problem 4 Tuples as Vectors \n",
    "In this problem, we’ll see how we can use tuples to represent vectors. Later in the semester, we’ll see the Python numpy and scipy packages, which provide objects specifically meant to enable matrix and vector operations, but for now tuples are all we have. So, for this problem we will represent a d-dimensional vector by a length-d tuple of floats.\n"
   ]
  },
  {
   "cell_type": "markdown",
   "metadata": {},
   "source": [
    "1. Implement a function called vec_scalar_mult, which takes two arguments: a tuple of numbers (floats and/or integers) t and a number (float or integer) s and returns a tuple of the same length as t, with its entries equal to the entries of t multiplied by s. \n",
    "   \n",
    "   That is, vec_scalar_mult implements multiplication of a vector by a scalar. \n",
    "   \n",
    "   Your function should check to make sure that the types of the input are appropriate (e.g., that s is a float or integer), and raise a TypeError with a suitable error message if the types are incorrect. However, your function should gracefully handle the case where the input s is an integer rather than a float, or the case where some or all of the entries of the input tuple are integers rather than floats. \n",
    "   \n",
    "   Hint: you may find it useful for this subproblem and the next few that follow it to implement a function that checks whether or not a given tuple is a “valid” vector (i.e., checks if a variable is a tuple and checks that its entries are all floats and/or integers)."
   ]
  },
  {
   "cell_type": "code",
   "execution_count": 21,
   "metadata": {},
   "outputs": [],
   "source": [
    "def check_tuple(t):\n",
    "    if type(t) != tuple:\n",
    "        raise TypeeError('input not a tuple')\n",
    "    for i in t:\n",
    "        if not (type(i) == int or type(i) == float):\n",
    "            raise TypeError('input not a float/integer')"
   ]
  },
  {
   "cell_type": "code",
   "execution_count": 22,
   "metadata": {},
   "outputs": [],
   "source": [
    "def vec_scalar_mult(t,s):\n",
    "    check_tuple(t)\n",
    "    if not (type(s) == int or type(s) == float):\n",
    "        raise TypeError('input not a float/integer')\n",
    "    a = ()\n",
    "    for i in t:\n",
    "        a = a + (i*s,)\n",
    "    return tuple(a)"
   ]
  },
  {
   "cell_type": "code",
   "execution_count": 23,
   "metadata": {},
   "outputs": [
    {
     "name": "stdout",
     "output_type": "stream",
     "text": [
      "(3, 6, 9)\n",
      "(4.5, 11.25, 13.5)\n"
     ]
    }
   ],
   "source": [
    "print(vec_scalar_mult((1,2,3),3))\n",
    "print(vec_scalar_mult((1,2.5,3),4.5))"
   ]
  },
  {
   "cell_type": "markdown",
   "metadata": {},
   "source": [
    "2. Implement a function called vec_inner_product which takes two “vectors” (i.e., tuples of floats and/or ints) as its inputs and outputs a float corresponding to the inner product of these two vectors. Recall that the inner product of vectors x, y ∈ $R_{d}$ is given by $\\sum_{j=1}^{d} x_{j}y_{j}$ . \n",
    "\n",
    "    Your function should check whether or not the two inputs are of the correct type (i.e., both tuples), and raise a TypeError if not. Your function should also check whether or not the two inputs agree in their dimension (i.e., length, so that the inner product is well-defined), and raise a ValueError if not."
   ]
  },
  {
   "cell_type": "code",
   "execution_count": 24,
   "metadata": {},
   "outputs": [],
   "source": [
    "def vec_inner_product(t1, t2):\n",
    "    check_tuple(t1)\n",
    "    check_tuple(t2)\n",
    "    a = 0\n",
    "    if not (len(t1) == len(t2)):\n",
    "        raise ValueError('dimensions does not match')\n",
    "    for (i,j) in zip(t1, t2):\n",
    "        a = a + i*j\n",
    "    return a"
   ]
  },
  {
   "cell_type": "code",
   "execution_count": 26,
   "metadata": {},
   "outputs": [
    {
     "name": "stdout",
     "output_type": "stream",
     "text": [
      "20\n",
      "28\n"
     ]
    }
   ],
   "source": [
    "print(vec_inner_product((1,2,3), (2,3,4)))\n",
    "print(vec_inner_product((1,1,1), (20,3,5)))"
   ]
  },
  {
   "cell_type": "markdown",
   "metadata": {},
   "source": [
    "3. It is natural, following the above, to extend our scheme to the case of matrices. Recall that a matrix is simply a box of numbers. If you are not already familiar with matrices, feel free to look them up on Wikipedia or in any linear algebra textbook. We will represent a matrix as a tuple of tuples, i.e., a tuple whose entries are themselves tuples. \n",
    "\n",
    "    We will represent an $m$-by-$n$ matrix as an $m$-tuple of $n$-tuples. To be more concrete, suppose that we are representing an $m$-by-$n$ matrix M as a variable my_mx. Then my_mx will be a length-m tuple of n-tuples, so that the i-th row of the matrix is given (as a vector) by the i-th entry of tuple my_mx.\n",
    "\n",
    "    Write a function check_valid_mx that takes a single argument and returns a Boolean, which is True if the given argument is a tuple that validly represents a matrix as described above, and returns False otherwise. A valid matrix will be a tuple of tuples such that\n",
    "        • Every element of the tuple is itself a tuple,\n",
    "        • each of these tuples is the same length, and\n",
    "        • every element of each of these tuples is a number (i.e., a float or integer).\n"
   ]
  },
  {
   "cell_type": "code",
   "execution_count": 27,
   "metadata": {},
   "outputs": [],
   "source": [
    "def check_valid_mx(my_mx):\n",
    "    a = len(my_mx[0])\n",
    "    for i in my_mx:\n",
    "        if type(i) != tuple:\n",
    "            return False\n",
    "        if len(i) != a:\n",
    "            return False\n",
    "        for j in i:\n",
    "            if not (type(j) == float or type(j) == int):\n",
    "                return False\n",
    "    return True"
   ]
  },
  {
   "cell_type": "code",
   "execution_count": 28,
   "metadata": {},
   "outputs": [
    {
     "name": "stdout",
     "output_type": "stream",
     "text": [
      "True\n",
      "False\n",
      "False\n",
      "False\n"
     ]
    }
   ],
   "source": [
    "print(check_valid_mx(((1,2,3),(1,2,3),(1,2,3))))\n",
    "print(check_valid_mx(((1,2,3),(1,2,3),(1,2))))\n",
    "print(check_valid_mx(((1,2,3),(1,2,3),(1,2,'a'))))\n",
    "print(check_valid_mx(([1,2],(1,2,3),(1,2,3))))"
   ]
  },
  {
   "cell_type": "markdown",
   "metadata": {},
   "source": [
    "4. Write a function mx_vec_mult that takes a matrix (i.e., tuple of tuples) and a vector (i.e., a tuple) as its arguments, and returns a vector (i.e., a tuple of numbers) that is the result of multiplying the given vector by the given matrix. Again, if you are not familiar with matrix-vector multiplication, refer to Wikipedia or any linear algebra textbook. \n",
    "    \n",
    "    Your function should check that all the supplied arguments are reasonable (e.g., using your function check_valid_mx), and raise an appropriate error if not. \n",
    "    \n",
    "    Hint: you may find it useful to make use of the inner-product function that you defined previously."
   ]
  },
  {
   "cell_type": "code",
   "execution_count": 29,
   "metadata": {},
   "outputs": [],
   "source": [
    "def mx_vec_mult(m,v):\n",
    "    check_valid_mx(m)\n",
    "    check_tuple(v)\n",
    "    vec = ()\n",
    "    for i in m:\n",
    "        a = vec_inner_product(i,v)\n",
    "        vec = vec + (a,)\n",
    "    return vec"
   ]
  },
  {
   "cell_type": "code",
   "execution_count": 30,
   "metadata": {},
   "outputs": [
    {
     "data": {
      "text/plain": [
       "(6, 3, 9)"
      ]
     },
     "execution_count": 30,
     "metadata": {},
     "output_type": "execute_result"
    }
   ],
   "source": [
    "m = ((1,2,3),(1,1,1),(3,2,4))\n",
    "v = (1,1,1)\n",
    "mx_vec_mult(m,v)"
   ]
  },
  {
   "cell_type": "code",
   "execution_count": 31,
   "metadata": {},
   "outputs": [
    {
     "data": {
      "text/plain": [
       "(7, 3, 9)"
      ]
     },
     "execution_count": 31,
     "metadata": {},
     "output_type": "execute_result"
    }
   ],
   "source": [
    "m = ((1,2,4),(1,1,1),(3,2,4))\n",
    "v = (1,1,1)\n",
    "mx_vec_mult(m,v)"
   ]
  },
  {
   "cell_type": "markdown",
   "metadata": {},
   "source": [
    "### Problem 5 More Fun with Vectors\n",
    "\n",
    "In the previous problem, you implemented matrix and vector operations using tuples to represent vectors. In many applications, it is common to have vectors of dimension in the thousands or millions, but in which only a small fraction of the entries are nonzero. Such vectors are called sparse vectors, and if we tried to represent them as tuples, we would be using thousands of entries just to store zeros, which would quickly get out of hand if we needed to store hundreds or thousands of such vectors.\n",
    "\n",
    "A reasonable solution is to instead represent a sparse vector (or matrix) by only storing its non-zero entries, with (index, value) pairs. We will take this approach in this problem, and represent vectors as dictionaries with positive integer keys (so we index into our vectors starting from 1, just like in MATLAB and R). A valid sparse vector will be a dictionary that has the properties that \n",
    "\n",
    "(1) all its indices are positive integers, and \n",
    "\n",
    "(2) all its values are floats."
   ]
  },
  {
   "cell_type": "markdown",
   "metadata": {},
   "source": [
    "1. Write a function is_valid_sparse_vector that takes one argument, and returns True if and only if the input is a valid sparse vector, and returns False otherwise. \n",
    "\n",
    "    Note: your function should not assume that the input is a dictionary."
   ]
  },
  {
   "cell_type": "code",
   "execution_count": 55,
   "metadata": {},
   "outputs": [],
   "source": [
    "def is_valid_sparse_vector(s):\n",
    "    for i in s.keys():\n",
    "        if not (type(i) == int and i > 0 and type(s[i]) == float):\n",
    "            return False\n",
    "    return True"
   ]
  },
  {
   "cell_type": "code",
   "execution_count": 56,
   "metadata": {},
   "outputs": [
    {
     "data": {
      "text/plain": [
       "False"
      ]
     },
     "execution_count": 56,
     "metadata": {},
     "output_type": "execute_result"
    }
   ],
   "source": [
    "s = {3:10, 7:11}\n",
    "is_valid_sparse_vector(s)"
   ]
  },
  {
   "cell_type": "markdown",
   "metadata": {},
   "source": [
    "2. Write a function sparse_inner_product that takes two “sparse vectors” as its inputs, and returns a float that is the value of the inner product of the vectors that the inputs represent. \n",
    "\n",
    "    Your function should raise an appropriate error in the event that either of the inputs is not a valid sparse vector.\n",
    "\n",
    "    Note: This may be your first foray into algorithm design, so here’s something I’d like you to think about: there are several distinct ways to perform this inner product operation, depending on how one chooses to iterate over the entries of the two dictionaries. \n",
    "    \n",
    "    For this specific problem, it doesn’t much matter which you choose, but there is an important point that you should consider: if the indices of our vectors were sorted, there would be an especially fast way to perform this operation that would require that we look at each entry of the two vectors at most once. Unfortunately, there is no guarantee about order of dictionary keys, so we can’t take advantage of this fact, but we’ll come back to it. You do not need to write anything about this, but please give it some thought."
   ]
  },
  {
   "cell_type": "code",
   "execution_count": 58,
   "metadata": {},
   "outputs": [],
   "source": [
    "def sparse_inner_product(d1, d2):\n",
    "    \n",
    "    # check if a valid sparse vector\n",
    "    if is_valid_sparse_vector(d1) == False: \n",
    "        raise TypeError(\"d1 not a valid sparse vector\")\n",
    "    if is_valid_sparse_vector(d2) == False: \n",
    "        raise TypeError(\"d2 not a valid sparse vector\")\n",
    "    \n",
    "    # compute inner product\n",
    "    inner = 0\n",
    "    for i in d1.keys():\n",
    "        if i in d2.keys():\n",
    "            inner += d1[i]*d2[i]\n",
    "    return inner       "
   ]
  },
  {
   "cell_type": "code",
   "execution_count": 61,
   "metadata": {},
   "outputs": [
    {
     "data": {
      "text/plain": [
       "14.0"
      ]
     },
     "execution_count": 61,
     "metadata": {},
     "output_type": "execute_result"
    }
   ],
   "source": [
    "d1  = {2:3.0, 5:1.0, 10:2.0}\n",
    "d2  = {2:4.0, 5:2.0}\n",
    "sparse_inner_product(d1, d2)"
   ]
  },
  {
   "cell_type": "code",
   "execution_count": 62,
   "metadata": {},
   "outputs": [
    {
     "data": {
      "text/plain": [
       "2.0"
      ]
     },
     "execution_count": 62,
     "metadata": {},
     "output_type": "execute_result"
    }
   ],
   "source": [
    "d1  = {1:3.0, 5:1.0, 10:2.0}\n",
    "d2  = {2:4.0, 5:2.0}\n",
    "sparse_inner_product(d1, d2)   "
   ]
  },
  {
   "cell_type": "markdown",
   "metadata": {},
   "source": [
    "### Problem 6 More Fun with Tuples "
   ]
  },
  {
   "cell_type": "markdown",
   "metadata": {},
   "source": [
    "1. You may recall that the functions min and max take any (positive) number of arguments, but that sum does not behave similarly. Write a function called my_sum that takes any number of numeric (ints and floats) arguments, and returns the sum of its arguments. Your function should correctly handle the case of zero arguments. You need not perform any error checking for this function. \n",
    "    \n",
    "    Reminder: by convention, an empty sum is taken to be 0."
   ]
  },
  {
   "cell_type": "code",
   "execution_count": 23,
   "metadata": {},
   "outputs": [],
   "source": [
    "def my_sum(*t):\n",
    "    if len(t) == 0:\n",
    "        my_sum = 0\n",
    "    else:\n",
    "        my_sum = 0\n",
    "        for i in t:\n",
    "            my_sum += i\n",
    "    return my_sum"
   ]
  },
  {
   "cell_type": "code",
   "execution_count": 26,
   "metadata": {},
   "outputs": [
    {
     "name": "stdout",
     "output_type": "stream",
     "text": [
      "0\n",
      "6.9\n"
     ]
    }
   ],
   "source": [
    "print(my_sum())\n",
    "print(my_sum(1,2,3.9))"
   ]
  },
  {
   "cell_type": "markdown",
   "metadata": {},
   "source": [
    "2. Write a function called reverse_tuple that takes a tuple as its only argument and returns a tuple that is the reverse of the input. That is, the output should have as its first entry the last entry of the input, the second entry of the output should be the second-to-last entry of the input, and so on. You need not perform any error checking for this function."
   ]
  },
  {
   "cell_type": "code",
   "execution_count": 66,
   "metadata": {},
   "outputs": [],
   "source": [
    "def reverse_tuple(t):\n",
    "    a = ()\n",
    "    for i in t:\n",
    "        a = (i,) + a\n",
    "    return a"
   ]
  },
  {
   "cell_type": "code",
   "execution_count": 67,
   "metadata": {},
   "outputs": [
    {
     "name": "stdout",
     "output_type": "stream",
     "text": [
      "(3, 2, 1)\n",
      "(9, 7, 4)\n"
     ]
    }
   ],
   "source": [
    "print(reverse_tuple((1,2,3)))\n",
    "print(reverse_tuple((4,7,9)))"
   ]
  },
  {
   "cell_type": "markdown",
   "metadata": {},
   "source": [
    "3. Write a function called rotate_tuple that takes two arguments: a tuple and an integer, in that order. Letting n be the integer given in the input, your function should return a tuple of the same length as the input tuple, but with its entries “rotated” by n. \n",
    "\n",
    "    If n is positive, this should mean to “push forward” all the entries of the input tuple by n entries, with entries that “go off the end” of the tuple being wrapped around to the beginning, so that the i-th entry of the input tuple becomes the (i + n)-th entry of the output, wrapping around to the beginning of the tuple if this index goes off the end. \n",
    "    \n",
    "    If n is negative, then this corresponds to rotating the entries in the other direction, with entries of the input tuple being “pushed backward”. \n",
    "    \n",
    "    Your function should perform error checking to ensure that the inputs are of appropriate types. If the user supplies a non-integer, print a message to alert the user that the input was not as expected, and try to recover by casting it to an integer. \n",
    "    \n",
    "    Hint: a try/catch statement will likely be useful here."
   ]
  },
  {
   "cell_type": "code",
   "execution_count": 68,
   "metadata": {},
   "outputs": [],
   "source": [
    "def rotate_tuple(t, s):\n",
    "    if type(t) != tuple:\n",
    "        raise TypeError('input not a tuple')\n",
    "    if type(s) != int:\n",
    "        print('input is a non-integer')\n",
    "        s = int(s)\n",
    "    first = t[-s:]\n",
    "    second = t[:-s]\n",
    "    return first + second"
   ]
  },
  {
   "cell_type": "code",
   "execution_count": 69,
   "metadata": {},
   "outputs": [
    {
     "name": "stdout",
     "output_type": "stream",
     "text": [
      "(3, 4, 1, 2)\n",
      "(2, 3, 4, 1)\n",
      "(4, 5, 6, 7, 8, 1, 2, 3)\n"
     ]
    }
   ],
   "source": [
    "print(rotate_tuple((1,2,3,4),2))\n",
    "print(rotate_tuple((1,2,3,4),-1))\n",
    "print(rotate_tuple((1,2,3,4,5,6,7,8),-3))"
   ]
  }
 ],
 "metadata": {
  "kernelspec": {
   "display_name": "Python 3",
   "language": "python",
   "name": "python3"
  },
  "language_info": {
   "codemirror_mode": {
    "name": "ipython",
    "version": 3
   },
   "file_extension": ".py",
   "mimetype": "text/x-python",
   "name": "python",
   "nbconvert_exporter": "python",
   "pygments_lexer": "ipython3",
   "version": "3.7.1"
  }
 },
 "nbformat": 4,
 "nbformat_minor": 2
}
